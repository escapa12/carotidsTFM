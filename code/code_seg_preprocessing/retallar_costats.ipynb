{
 "cells": [
  {
   "cell_type": "markdown",
   "metadata": {},
   "source": [
    "## Crop\n",
    "\n",
    "Crop the sides of NEFRONA image after changing their resolution"
   ]
  },
  {
   "cell_type": "code",
   "execution_count": 3,
   "metadata": {},
   "outputs": [],
   "source": [
    "import PIL.Image as pilimage\n",
    "import numpy as np\n",
    "import os\n",
    "\n",
    "file_imt=open('/media/HDD3TB/data_carotid/adjusted_ENRIC/images_enric.txt','w')\n",
    "\n",
    "\n",
    "path_imt='/media/HDD3TB/data_carotid/adjusted_ENRIC/parelles_pl/original_resolucio_enric/'\n",
    "for im in os.listdir(path_imt):\n",
    "    imatge=np.asarray(pilimage.open(path_imt+im))\n",
    "    imatge=imatge[94:-93,65:-64]\n",
    "    im_out=pilimage.fromarray(imatge)\n",
    "    im_out.save('/media/HDD3TB/data_carotid/adjusted_ENRIC/crop_original_enric/PL_'+im)\n",
    "    file_imt.write('/media/HDD3TB/data_carotid/adjusted_ENRIC/crop_original_enric/PL_'+im+'\\n')\n",
    "    \n",
    "path_imt='/media/HDD3TB/data_carotid/adjusted_ENRIC/parelles_imt/original_resolucio_enric/'\n",
    "for im in os.listdir(path_imt):\n",
    "    imatge=np.asarray(pilimage.open(path_imt+im))\n",
    "    imatge=imatge[94:-93,65:-64]\n",
    "    im_out=pilimage.fromarray(imatge)\n",
    "    im_out.save('/media/HDD3TB/data_carotid/adjusted_ENRIC/crop_original_enric/IMT_'+im)\n",
    "    file_imt.write('/media/HDD3TB/data_carotid/adjusted_ENRIC/crop_original_enric/IMT_'+im+'\\n')\n",
    "    \n",
    "file_imt.close()"
   ]
  }
 ],
 "metadata": {
  "kernelspec": {
   "display_name": "Python [conda env:envTFM]",
   "language": "python",
   "name": "conda-env-envTFM-py"
  },
  "language_info": {
   "codemirror_mode": {
    "name": "ipython",
    "version": 2
   },
   "file_extension": ".py",
   "mimetype": "text/x-python",
   "name": "python",
   "nbconvert_exporter": "python",
   "pygments_lexer": "ipython2",
   "version": "2.7.14"
  }
 },
 "nbformat": 4,
 "nbformat_minor": 2
}
