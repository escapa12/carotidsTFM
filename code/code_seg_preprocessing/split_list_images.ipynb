{
 "cells": [
  {
   "cell_type": "markdown",
   "metadata": {},
   "source": [
    "Create six files with the path of the images: train,test, validation (originals and ground truth)."
   ]
  },
  {
   "cell_type": "code",
   "execution_count": 2,
   "metadata": {},
   "outputs": [],
   "source": [
    "from os import listdir\n",
    "from os.path import isfile, join\n",
    "import numpy.random\n"
   ]
  },
  {
   "cell_type": "code",
   "execution_count": 11,
   "metadata": {},
   "outputs": [],
   "source": [
    "path='/media/HDD3TB/data_carotid/NEFRONA_imadjust/GT_PL_FINAL_MOD/'\n",
    "path_originals='/media/HDD3TB/data_carotid/NEFRONA_imadjust/pl_original_MOD/'\n",
    "path_label='/media/HDD3TB/data_carotid/NEFRONA_imadjust/GT_PL_FINAL_MOD/'\n",
    "\n",
    "\n",
    "files_path_train_norm = [f for f in listdir(path) if isfile(join(path, f))]\n",
    "\n",
    "f1 = open('/media/HDD3TB/data_carotid/SEGMENTACIO/keras_semantic_segmentation/sample_lleida/train_images.txt', 'w')\n",
    "f2 = open('/media/HDD3TB/data_carotid/SEGMENTACIO/keras_semantic_segmentation/sample_lleida/train_labels.txt', 'w')\n",
    "f3 = open('/media/HDD3TB/data_carotid/SEGMENTACIO/keras_semantic_segmentation/sample_lleida/test_images.txt', 'w')\n",
    "f4 = open('/media/HDD3TB/data_carotid/SEGMENTACIO/keras_semantic_segmentation/sample_lleida/test_labels.txt', 'w')\n",
    "f5 = open('/media/HDD3TB/data_carotid/SEGMENTACIO/keras_semantic_segmentation/sample_lleida/val_images.txt', 'w')\n",
    "f6 = open('/media/HDD3TB/data_carotid/SEGMENTACIO/keras_semantic_segmentation/sample_lleida/val_labels.txt', 'w')\n",
    "\n",
    "# for item in files_path_train_norm:\n",
    "#     X=numpy.random.uniform()\n",
    "#     if X< 0.7:\n",
    "#         f1.write(path_originals+item[:-10]+'MOD.png'+\"\\n\")\n",
    "#         f2.write(path_label+item+\"\\n\")\n",
    "\n",
    "#     else:\n",
    "#         if X>0.8:\n",
    "#             f3.write(path_originals+item[:-10]+'MOD.png'+\"\\n\")\n",
    "#             f4.write(path_label+item+\"\\n\")\n",
    "#         else:\n",
    "#             f5.write(path_originals+item[:-10]+'MOD.png'+\"\\n\")\n",
    "#             f6.write(path_label+item+\"\\n\")\n",
    "            \n",
    "path='/media/HDD3TB/data_carotid/NEFRONA_imadjust_selection/imt_gt/'\n",
    "path_originals='/media/HDD3TB/data_carotid/NEFRONA_imadjust_selection/imt_org/'\n",
    "path_label='/media/HDD3TB/data_carotid/NEFRONA_imadjust_selection/imt_gt/'\n",
    "\n",
    "\n",
    "files_path_train_norm = [f for f in listdir(path) if isfile(join(path, f))]\n",
    "\n",
    "for item in files_path_train_norm:\n",
    "    X=numpy.random.uniform()\n",
    "    if X< 0.1:\n",
    "        f1.write(path_originals+item[:-11]+'MOD.png'+\"\\n\")\n",
    "        f2.write(path_label+item+\"\\n\")\n",
    "\n",
    "    else:\n",
    "        if X>0.9:\n",
    "            f3.write(path_originals+item[:-11]+'MOD.png'+\"\\n\")\n",
    "            f4.write(path_label+item+\"\\n\")\n",
    "        else:\n",
    "            f5.write(path_originals+item[:-11]+'MOD.png'+\"\\n\")\n",
    "            f6.write(path_label+item+\"\\n\")\n",
    "            \n",
    "f1.close()\n",
    "f2.close()\n",
    "f3.close()\n",
    "f4.close()\n",
    "f5.close()\n",
    "f6.close()"
   ]
  }
 ],
 "metadata": {
  "kernelspec": {
   "display_name": "Python 2",
   "language": "python",
   "name": "python2"
  },
  "language_info": {
   "codemirror_mode": {
    "name": "ipython",
    "version": 3
   },
   "file_extension": ".py",
   "mimetype": "text/x-python",
   "name": "python",
   "nbconvert_exporter": "python",
   "pygments_lexer": "ipython3",
   "version": "3.5.5"
  }
 },
 "nbformat": 4,
 "nbformat_minor": 2
}
