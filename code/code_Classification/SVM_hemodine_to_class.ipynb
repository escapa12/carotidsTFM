{
 "cells": [
  {
   "cell_type": "code",
   "execution_count": 70,
   "metadata": {},
   "outputs": [],
   "source": [
    "import numpy as np\n",
    "from os import listdir\n",
    "from os.path import isfile, join\n",
    "import pandas as pd\n",
    "import matplotlib.image as mpimg\n",
    "from PIL import Image\n",
    "from sklearn.utils import shuffle\n",
    "from sklearn.model_selection import KFold,train_test_split\n",
    "\n",
    "from sklearn import svm, grid_search\n",
    "from sklearn.grid_search import GridSearchCV\n",
    "from sklearn.svm import NuSVC,SVC\n",
    "\n",
    "df=pd.read_excel('data/dadesFinal.xlsx')\n",
    "df.set_index('Códigobiobanco', inplace=True)\n",
    "df['mortCV']=df['muerte']=='CV death'\n",
    "df['mortCV'].replace((True, False), (1, 0), inplace=True)"
   ]
  },
  {
   "cell_type": "code",
   "execution_count": 71,
   "metadata": {},
   "outputs": [],
   "source": [
    "def create_hemodine_dataset(tipus):\n",
    "    cols_clas_placa=['placas'+tipus,'lipidos'+tipus,'fibrosis'+tipus,'calcio'+tipus,\n",
    "                     'clasif'+tipus,'EventoCV_Si_No','mortCV']\n",
    "    DF=df.loc[:,cols_clas_placa]\n",
    "    DF=DF.dropna()\n",
    "    print('Number of sample for'+tipus+':', DF.shape[0])\n",
    "    DF=DF.rename(index=str, columns={'lipidos'+tipus:'lipidos',\n",
    "                                     'fibrosis'+tipus:'fibrosis',\n",
    "                                     'calcio'+tipus:'calcio',\n",
    "                                      'clasif'+tipus:'class'})\n",
    "\n",
    "    return DF\n",
    "\n",
    "def to3classes(y):\n",
    "    for i in range(len(y)):\n",
    "        k=y[i]\n",
    "        if (k==0) or (k==1) :\n",
    "            y[i]=0\n",
    "        if (k==2) or (k==3) :\n",
    "            y[i]=1\n",
    "        if (k==4):\n",
    "            y[i]=2\n",
    "    return y\n",
    "def load_data(df,test_size=0.1): \n",
    "    cols=['lipidos','fibrosis','calcio']\n",
    "    X=df[cols].values\n",
    "    print(\"Number of  samples:\",X.shape[0])\n",
    "    y=df['class'].values\n",
    "    y=to3classes(y-1)\n",
    "    X, y = shuffle(X, y,random_state=20)\n",
    "    X_train, X_test, y_train, y_test = train_test_split(X, y,test_size=test_size, random_state=22)\n",
    "    print(\"Number of training samples:\",X_train.shape[0])\n",
    "    print(\"Number of test samples:\",X_test.shape[0])\n",
    "    return X_train, X_test, y_train, y_test"
   ]
  },
  {
   "cell_type": "code",
   "execution_count": 207,
   "metadata": {},
   "outputs": [],
   "source": [
    "def Nu_svc_param_selection(X, y, nfolds):\n",
    "    Nus = [0.08,0.09,0.1,0.11,0.12,0.13,.2]\n",
    "    gammas = [0.1,0.5,1,5,10,100]\n",
    "    kernels = ['rbf','linear','sigmoid']\n",
    "    param_grid = {'nu': Nus, 'gamma' : gammas,'kernel':kernels}\n",
    "    grid_search = GridSearchCV(NuSVC(), param_grid, cv=nfolds)\n",
    "    grid_search.fit(X, y)\n",
    "    print(grid_search.best_params_)\n",
    "    return grid_search.best_params_\n",
    "def train_Nu_SVM(X_train, X_test, y_train, y_test,nfolds=5):\n",
    "    best_p_Nu=Nu_svc_param_selection(X_train,y_train,nfolds)\n",
    "    clf = NuSVC(nu=best_p_Nu['nu'],kernel=best_p_Nu['kernel'],gamma=best_p_Nu['gamma'])\n",
    "    clf.fit(X_train, y_train) \n",
    "    print('Accuracy:',clf.score(X_test,y_test))\n",
    "    return clf.score(X_test,y_test)\n",
    "\n",
    "def svc_param_selection(X, y, nfolds):\n",
    "    Cs = [0.001,0.01,1,10]\n",
    "    gammas = [0.001,0.001,10,100]\n",
    "    kernels = ['rbf']\n",
    "    param_grid = {'C': Cs, 'gamma' : gammas,'kernel':kernels}\n",
    "    grid_search = GridSearchCV(SVC(), param_grid, cv=nfolds)\n",
    "    grid_search.fit(X, y)\n",
    "    print(grid_search.best_params_)\n",
    "    return grid_search.best_params_\n",
    "def train_SVM(X_train, X_test, y_train, y_test,nfolds=5):\n",
    "    best_p=svc_param_selection(X_train,y_train,nfolds)\n",
    "    clf = SVC(C=best_p['C'],kernel=best_p['kernel'],gamma=best_p['gamma'])\n",
    "    clf.fit(X_train, y_train) \n",
    "    print('Accuracy:',clf.score(X_test,y_test))\n",
    "    return clf.score(X_test,y_test)"
   ]
  },
  {
   "cell_type": "code",
   "execution_count": 209,
   "metadata": {},
   "outputs": [
    {
     "name": "stdout",
     "output_type": "stream",
     "text": [
      "\n",
      "\n",
      " Tipus: _cc_\n",
      "Number of sample for_cc_d: 153\n",
      "Number of sample for_cc_i: 220\n",
      "Number of  samples: 373\n",
      "Number of training samples: 335\n",
      "Number of test samples: 38\n",
      "{'gamma': 0.5, 'kernel': 'rbf', 'nu': 0.1}\n",
      "Accuracy: 0.605263157895\n",
      "{'C': 1, 'gamma': 0.001, 'kernel': 'rbf'}\n",
      "Accuracy: 0.526315789474\n",
      "Nu better\n",
      "\n",
      "\n",
      " Tipus: _fem_com_\n",
      "Number of sample for_fem_com_d: 1081\n",
      "Number of sample for_fem_com_i: 1007\n",
      "Number of  samples: 2088\n",
      "Number of training samples: 1879\n",
      "Number of test samples: 209\n",
      "{'gamma': 100, 'kernel': 'rbf', 'nu': 0.09}\n",
      "Accuracy: 0.511961722488\n",
      "{'C': 1, 'gamma': 0.001, 'kernel': 'rbf'}\n",
      "Accuracy: 0.55980861244\n",
      "C better\n",
      "\n",
      "\n",
      " Tipus: _fem_sup_\n",
      "Number of sample for_fem_sup_d: 230\n",
      "Number of sample for_fem_sup_i: 256\n",
      "Number of  samples: 486\n",
      "Number of training samples: 437\n",
      "Number of test samples: 49\n",
      "{'gamma': 5, 'kernel': 'rbf', 'nu': 0.13}\n",
      "Accuracy: 0.530612244898\n",
      "{'C': 0.001, 'gamma': 0.001, 'kernel': 'rbf'}\n",
      "Accuracy: 0.489795918367\n",
      "Nu better\n",
      "\n",
      "\n",
      " Tipus: _med_bif_\n",
      "Number of sample for_med_bif_d: 1024\n",
      "Number of sample for_med_bif_i: 1010\n",
      "Number of  samples: 2034\n",
      "Number of training samples: 1830\n",
      "Number of test samples: 204\n",
      "{'gamma': 10, 'kernel': 'rbf', 'nu': 0.08}\n",
      "Accuracy: 0.656862745098\n",
      "{'C': 1, 'gamma': 0.001, 'kernel': 'rbf'}\n",
      "Accuracy: 0.68137254902\n",
      "C better\n",
      "\n",
      "\n",
      " Tipus: _med_car_\n",
      "Number of sample for_med_car_d: 497\n",
      "Number of sample for_med_car_i: 473\n",
      "Number of  samples: 970\n",
      "Number of training samples: 873\n",
      "Number of test samples: 97\n",
      "{'gamma': 5, 'kernel': 'rbf', 'nu': 0.09}\n",
      "Accuracy: 0.659793814433\n",
      "{'C': 1, 'gamma': 0.001, 'kernel': 'rbf'}\n",
      "Accuracy: 0.711340206186\n",
      "C better\n"
     ]
    }
   ],
   "source": [
    "### Region by region\n",
    "\n",
    "tipus=['_cc_','_fem_com_','_fem_sup_','_med_bif_','_med_car_']\n",
    "\n",
    "for x in tipus:\n",
    "    print('\\n\\n Tipus:',x)\n",
    "    df_d=create_hemodine_dataset(x+'d')\n",
    "    df_i=create_hemodine_dataset(x+'i')\n",
    "    DF=pd.concat([df_d,df_i])\n",
    "    X_train, X_test, y_train, y_test= load_data(DF)\n",
    "    Nuacc=train_Nu_SVM(X_train, X_test, y_train, y_test)\n",
    "    acc=train_SVM(X_train, X_test, y_train, y_test)\n",
    "    if (Nuacc> acc):\n",
    "        print('Nu better')\n",
    "    else:\n",
    "        print('C better')"
   ]
  },
  {
   "cell_type": "code",
   "execution_count": 216,
   "metadata": {},
   "outputs": [
    {
     "name": "stdout",
     "output_type": "stream",
     "text": [
      "All classes:\n",
      "Number of sample for_cc_d: 153\n",
      "Number of sample for_cc_i: 220\n",
      "Number of sample for_fem_com_d: 1081\n",
      "Number of sample for_fem_com_i: 1007\n",
      "Number of sample for_fem_sup_d: 230\n",
      "Number of sample for_fem_sup_i: 256\n",
      "Number of sample for_med_bif_d: 1024\n",
      "Number of sample for_med_bif_i: 1010\n",
      "Number of sample for_med_car_d: 497\n",
      "Number of sample for_med_car_i: 473\n",
      "Number of  samples: 5951\n",
      "Number of training samples: 5355\n",
      "Number of test samples: 596\n",
      "{'gamma': 5, 'kernel': 'rbf', 'nu': 0.09}\n",
      "Accuracy: 0.565436241611\n"
     ]
    }
   ],
   "source": [
    "print('All classes:')\n",
    "tipus=['_cc_','_fem_com_','_fem_sup_','_med_bif_','_med_car_']\n",
    "\n",
    "DF = pd.DataFrame(columns=df_d.columns)\n",
    "\n",
    "for x in tipus:\n",
    "    df_d=create_hemodine_dataset(x+'d')\n",
    "    df_i=create_hemodine_dataset(x+'i')\n",
    "    DF=pd.concat([DF,df_d,df_i])\n",
    "X_train, X_test, y_train, y_test= load_data(DF)\n",
    "Nuacc=train_Nu_SVM(X_train, X_test, y_train, y_test)"
   ]
  },
  {
   "cell_type": "code",
   "execution_count": null,
   "metadata": {},
   "outputs": [],
   "source": [
    "acc=train_SVM(X_train, X_test, y_train, y_test)"
   ]
  },
  {
   "cell_type": "code",
   "execution_count": 215,
   "metadata": {},
   "outputs": [
    {
     "name": "stdout",
     "output_type": "stream",
     "text": [
      "Both femorals:\n",
      "Number of sample for_fem_com_d: 1081\n",
      "Number of sample for_fem_com_i: 1007\n",
      "Number of sample for_fem_sup_d: 230\n",
      "Number of sample for_fem_sup_i: 256\n",
      "Number of  samples: 2574\n",
      "Number of training samples: 2316\n",
      "Number of test samples: 258\n",
      "{'gamma': 10, 'kernel': 'rbf', 'nu': 0.08}\n",
      "Accuracy: 0.259689922481\n"
     ]
    }
   ],
   "source": [
    "print('Both femorals:')\n",
    "tipus=['_fem_com_','_fem_sup_']\n",
    "\n",
    "DF = pd.DataFrame(columns=df_d.columns)\n",
    "\n",
    "for x in tipus:\n",
    "    df_d=create_hemodine_dataset(x+'d')\n",
    "    df_i=create_hemodine_dataset(x+'i')\n",
    "    DF=pd.concat([DF,df_d,df_i])\n",
    "    \n",
    "X_train, X_test, y_train, y_test= load_data(DF)\n",
    "Nuacc=train_Nu_SVM(X_train, X_test, y_train, y_test)"
   ]
  },
  {
   "cell_type": "code",
   "execution_count": 217,
   "metadata": {},
   "outputs": [
    {
     "name": "stdout",
     "output_type": "stream",
     "text": [
      "{'C': 1, 'gamma': 0.001, 'kernel': 'rbf'}\n",
      "Accuracy: 0.60067114094\n"
     ]
    }
   ],
   "source": [
    "acc=train_SVM(X_train, X_test, y_train, y_test)"
   ]
  }
 ],
 "metadata": {
  "kernelspec": {
   "display_name": "Python 3",
   "language": "python",
   "name": "python3"
  },
  "language_info": {
   "codemirror_mode": {
    "name": "ipython",
    "version": 3
   },
   "file_extension": ".py",
   "mimetype": "text/x-python",
   "name": "python",
   "nbconvert_exporter": "python",
   "pygments_lexer": "ipython3",
   "version": "3.6.1"
  }
 },
 "nbformat": 4,
 "nbformat_minor": 2
}
