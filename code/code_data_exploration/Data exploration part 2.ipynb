{
 "cells": [
  {
   "cell_type": "markdown",
   "metadata": {},
   "source": [
    "# Data Exploration / Visualization (Part 2):"
   ]
  },
  {
   "cell_type": "code",
   "execution_count": 1,
   "metadata": {
    "collapsed": true
   },
   "outputs": [],
   "source": [
    "import pandas as pd\n",
    "import numpy as np\n",
    "import seaborn as sns\n",
    "import matplotlib.pyplot as plt"
   ]
  },
  {
   "cell_type": "code",
   "execution_count": 2,
   "metadata": {
    "collapsed": true
   },
   "outputs": [],
   "source": [
    "# params\n",
    "\n",
    "path = \"DATA/dades_excels\"\n",
    "path_old = path + \"/base de dades estudiants (1).xlsx\"\n",
    "path_new = path + \"/base de datos reducida.xlsx\"\n",
    "path_complete = path + \"/base de datos seguiments130618.xlsx\""
   ]
  },
  {
   "cell_type": "code",
   "execution_count": 3,
   "metadata": {
    "collapsed": true
   },
   "outputs": [],
   "source": [
    "df_old = pd.read_excel(path_old)\n",
    "df_new = pd.read_excel(path_new)\n",
    "df_complete = pd.read_excel(path_complete)"
   ]
  },
  {
   "cell_type": "markdown",
   "metadata": {},
   "source": [
    "## Violin chart: IMT versus Death by CV event"
   ]
  },
  {
   "cell_type": "markdown",
   "metadata": {},
   "source": [
    "In this violin chart we show the histograms of  IMT of subjects that died either by CV event or non CV event, separated by gender."
   ]
  },
  {
   "cell_type": "code",
   "execution_count": 13,
   "metadata": {
    "collapsed": true
   },
   "outputs": [],
   "source": [
    "columns_interest = [\"Códigobiobanco\",\"sexo\",\"Tabaquismo_Si_No\",\"Ingestaalcoholgdia\",\"diabetes\",\"hipertenso\",\n",
    "                    \"dislipemico\",\n",
    "                   \"Edadfechaexploracionvascular\",\"GIMmedio\",\"GIM_Med_TRUNC\",\"GIM_Med_CC_TRUNC\",\"ITB\",\n",
    "                    \"nplacas_carotid\",\n",
    "                   \"nplacas_femoral\",\"clasif_cc_d\",\"clasif_med_bif_d\",\"clasif_med_car_d\",\"clasif_cc_i\",\n",
    "                    \"clasif_med_bif_i\",\n",
    "                   \"clasif_med_car_i\",\"clasif_fem_com_d\",\"clasif_fem_sup_d\",\"clasif_fem_com_i\",\n",
    "                    \"clasif_fem_sup_i\",\n",
    "                   \"DescECV1\",\"TipoECV1\",\"muerte\",\"CausaMuerte\",\"DescMuerte\",\"Muerte_S_N\",\"EventoCV_Si_No\", \"ECV1\"]\n",
    "\n",
    "DF = df_complete[columns_interest]"
   ]
  },
  {
   "cell_type": "code",
   "execution_count": 14,
   "metadata": {},
   "outputs": [
    {
     "data": {
      "text/html": [
       "<div>\n",
       "<style>\n",
       "    .dataframe thead tr:only-child th {\n",
       "        text-align: right;\n",
       "    }\n",
       "\n",
       "    .dataframe thead th {\n",
       "        text-align: left;\n",
       "    }\n",
       "\n",
       "    .dataframe tbody tr th {\n",
       "        vertical-align: top;\n",
       "    }\n",
       "</style>\n",
       "<table border=\"1\" class=\"dataframe\">\n",
       "  <thead>\n",
       "    <tr style=\"text-align: right;\">\n",
       "      <th></th>\n",
       "      <th>Códigobiobanco</th>\n",
       "      <th>sexo</th>\n",
       "      <th>Tabaquismo_Si_No</th>\n",
       "      <th>Ingestaalcoholgdia</th>\n",
       "      <th>diabetes</th>\n",
       "      <th>hipertenso</th>\n",
       "      <th>dislipemico</th>\n",
       "      <th>Edadfechaexploracionvascular</th>\n",
       "      <th>GIMmedio</th>\n",
       "      <th>GIM_Med_TRUNC</th>\n",
       "      <th>...</th>\n",
       "      <th>clasif_fem_com_i</th>\n",
       "      <th>clasif_fem_sup_i</th>\n",
       "      <th>DescECV1</th>\n",
       "      <th>TipoECV1</th>\n",
       "      <th>muerte</th>\n",
       "      <th>CausaMuerte</th>\n",
       "      <th>DescMuerte</th>\n",
       "      <th>Muerte_S_N</th>\n",
       "      <th>EventoCV_Si_No</th>\n",
       "      <th>ECV1</th>\n",
       "    </tr>\n",
       "  </thead>\n",
       "  <tbody>\n",
       "    <tr>\n",
       "      <th>1</th>\n",
       "      <td>1802</td>\n",
       "      <td>hombre</td>\n",
       "      <td>1</td>\n",
       "      <td>10</td>\n",
       "      <td>1</td>\n",
       "      <td>1</td>\n",
       "      <td>0</td>\n",
       "      <td>65</td>\n",
       "      <td>NaN</td>\n",
       "      <td>1.500000</td>\n",
       "      <td>...</td>\n",
       "      <td>NaN</td>\n",
       "      <td>NaN</td>\n",
       "      <td>NaN</td>\n",
       "      <td>NaN</td>\n",
       "      <td>non-CV death</td>\n",
       "      <td>Neoplasia</td>\n",
       "      <td>Neoplasia</td>\n",
       "      <td>1</td>\n",
       "      <td>0</td>\n",
       "      <td>0</td>\n",
       "    </tr>\n",
       "    <tr>\n",
       "      <th>19</th>\n",
       "      <td>1821</td>\n",
       "      <td>hombre</td>\n",
       "      <td>0</td>\n",
       "      <td>0</td>\n",
       "      <td>0</td>\n",
       "      <td>1</td>\n",
       "      <td>1</td>\n",
       "      <td>43</td>\n",
       "      <td>0.695000</td>\n",
       "      <td>0.695000</td>\n",
       "      <td>...</td>\n",
       "      <td>NaN</td>\n",
       "      <td>NaN</td>\n",
       "      <td>Infarto agudo miocardio</td>\n",
       "      <td>Infarto agudo miocardio</td>\n",
       "      <td>CV death</td>\n",
       "      <td>Isquemia miocárdica e infarto</td>\n",
       "      <td>Isquemia miocárdica e infarto</td>\n",
       "      <td>1</td>\n",
       "      <td>0</td>\n",
       "      <td>1</td>\n",
       "    </tr>\n",
       "    <tr>\n",
       "      <th>25</th>\n",
       "      <td>1828</td>\n",
       "      <td>mujer</td>\n",
       "      <td>0</td>\n",
       "      <td>0</td>\n",
       "      <td>0</td>\n",
       "      <td>1</td>\n",
       "      <td>0</td>\n",
       "      <td>66</td>\n",
       "      <td>0.666667</td>\n",
       "      <td>0.875000</td>\n",
       "      <td>...</td>\n",
       "      <td>NaN</td>\n",
       "      <td>NaN</td>\n",
       "      <td>NaN</td>\n",
       "      <td>NaN</td>\n",
       "      <td>non-CV death</td>\n",
       "      <td>Infecciones</td>\n",
       "      <td>Infecciones</td>\n",
       "      <td>1</td>\n",
       "      <td>0</td>\n",
       "      <td>0</td>\n",
       "    </tr>\n",
       "    <tr>\n",
       "      <th>50</th>\n",
       "      <td>1855</td>\n",
       "      <td>mujer</td>\n",
       "      <td>0</td>\n",
       "      <td>0</td>\n",
       "      <td>0</td>\n",
       "      <td>0</td>\n",
       "      <td>1</td>\n",
       "      <td>68</td>\n",
       "      <td>0.748000</td>\n",
       "      <td>0.748000</td>\n",
       "      <td>...</td>\n",
       "      <td>NaN</td>\n",
       "      <td>NaN</td>\n",
       "      <td>NaN</td>\n",
       "      <td>NaN</td>\n",
       "      <td>non-CV death</td>\n",
       "      <td>Neoplasia</td>\n",
       "      <td>Neoplasia</td>\n",
       "      <td>1</td>\n",
       "      <td>0</td>\n",
       "      <td>0</td>\n",
       "    </tr>\n",
       "    <tr>\n",
       "      <th>53</th>\n",
       "      <td>1858</td>\n",
       "      <td>hombre</td>\n",
       "      <td>0</td>\n",
       "      <td>3</td>\n",
       "      <td>0</td>\n",
       "      <td>1</td>\n",
       "      <td>1</td>\n",
       "      <td>68</td>\n",
       "      <td>0.776667</td>\n",
       "      <td>0.776667</td>\n",
       "      <td>...</td>\n",
       "      <td>NaN</td>\n",
       "      <td>NaN</td>\n",
       "      <td>NaN</td>\n",
       "      <td>NaN</td>\n",
       "      <td>non-CV death</td>\n",
       "      <td>Otras</td>\n",
       "      <td>Otras</td>\n",
       "      <td>1</td>\n",
       "      <td>0</td>\n",
       "      <td>0</td>\n",
       "    </tr>\n",
       "  </tbody>\n",
       "</table>\n",
       "<p>5 rows × 32 columns</p>\n",
       "</div>"
      ],
      "text/plain": [
       "    Códigobiobanco    sexo  Tabaquismo_Si_No  Ingestaalcoholgdia  diabetes  \\\n",
       "1             1802  hombre                 1                  10         1   \n",
       "19            1821  hombre                 0                   0         0   \n",
       "25            1828   mujer                 0                   0         0   \n",
       "50            1855   mujer                 0                   0         0   \n",
       "53            1858  hombre                 0                   3         0   \n",
       "\n",
       "    hipertenso  dislipemico  Edadfechaexploracionvascular  GIMmedio  \\\n",
       "1            1            0                            65       NaN   \n",
       "19           1            1                            43  0.695000   \n",
       "25           1            0                            66  0.666667   \n",
       "50           0            1                            68  0.748000   \n",
       "53           1            1                            68  0.776667   \n",
       "\n",
       "    GIM_Med_TRUNC  ...   clasif_fem_com_i  clasif_fem_sup_i  \\\n",
       "1        1.500000  ...                NaN               NaN   \n",
       "19       0.695000  ...                NaN               NaN   \n",
       "25       0.875000  ...                NaN               NaN   \n",
       "50       0.748000  ...                NaN               NaN   \n",
       "53       0.776667  ...                NaN               NaN   \n",
       "\n",
       "                   DescECV1                 TipoECV1        muerte  \\\n",
       "1                       NaN                      NaN  non-CV death   \n",
       "19  Infarto agudo miocardio  Infarto agudo miocardio      CV death   \n",
       "25                      NaN                      NaN  non-CV death   \n",
       "50                      NaN                      NaN  non-CV death   \n",
       "53                      NaN                      NaN  non-CV death   \n",
       "\n",
       "                      CausaMuerte                     DescMuerte  Muerte_S_N  \\\n",
       "1                       Neoplasia                      Neoplasia           1   \n",
       "19  Isquemia miocárdica e infarto  Isquemia miocárdica e infarto           1   \n",
       "25                    Infecciones                    Infecciones           1   \n",
       "50                      Neoplasia                      Neoplasia           1   \n",
       "53                          Otras                          Otras           1   \n",
       "\n",
       "    EventoCV_Si_No  ECV1  \n",
       "1                0     0  \n",
       "19               0     1  \n",
       "25               0     0  \n",
       "50               0     0  \n",
       "53               0     0  \n",
       "\n",
       "[5 rows x 32 columns]"
      ]
     },
     "execution_count": 14,
     "metadata": {},
     "output_type": "execute_result"
    }
   ],
   "source": [
    "DF = DF[DF[\"muerte\"]!=\"Alive\"]\n",
    "DF[\"sexo\"] = np.where(DF[\"sexo\"]==0,\"hombre\",\"mujer\")\n",
    "DF.head()"
   ]
  },
  {
   "cell_type": "code",
   "execution_count": 15,
   "metadata": {},
   "outputs": [
    {
     "data": {
      "image/png": "[encoded data removed]",
      "text/plain": [
       "<matplotlib.figure.Figure at 0x1a0fd66eb8>"
      ]
     },
     "metadata": {},
     "output_type": "display_data"
    }
   ],
   "source": [
    "import seaborn as sns\n",
    "\n",
    "IMT = \"GIM_Med_TRUNC\"\n",
    "plt.figure(figsize=(10,10))\n",
    "sns.set_style(\"whitegrid\")\n",
    "sns.violinplot(x=\"muerte\",y=IMT, hue=\"sexo\",data=DF,palette=\"Set2\", split=True)\n",
    "\n",
    "plt.title(\"Histrograms of IMT depending on gender and death cause\")\n",
    "plt.show()"
   ]
  },
  {
   "cell_type": "markdown",
   "metadata": {},
   "source": [
    "What we can intuitively see is that on average for male subjects the IMT tends to higher values than female sibjects that dead for CV events. For non CV events the  IMT has a more uniform shape. "
   ]
  },
  {
   "cell_type": "markdown",
   "metadata": {},
   "source": [
    "Here we show the number of subjects for each category."
   ]
  },
  {
   "cell_type": "code",
   "execution_count": 16,
   "metadata": {},
   "outputs": [
    {
     "data": {
      "text/html": [
       "<div>\n",
       "<style>\n",
       "    .dataframe thead tr:only-child th {\n",
       "        text-align: right;\n",
       "    }\n",
       "\n",
       "    .dataframe thead th {\n",
       "        text-align: left;\n",
       "    }\n",
       "\n",
       "    .dataframe tbody tr th {\n",
       "        vertical-align: top;\n",
       "    }\n",
       "</style>\n",
       "<table border=\"1\" class=\"dataframe\">\n",
       "  <thead>\n",
       "    <tr style=\"text-align: right;\">\n",
       "      <th>sexo</th>\n",
       "      <th>hombre</th>\n",
       "      <th>mujer</th>\n",
       "    </tr>\n",
       "    <tr>\n",
       "      <th>muerte</th>\n",
       "      <th></th>\n",
       "      <th></th>\n",
       "    </tr>\n",
       "  </thead>\n",
       "  <tbody>\n",
       "    <tr>\n",
       "      <th>CV death</th>\n",
       "      <td>47</td>\n",
       "      <td>23</td>\n",
       "    </tr>\n",
       "    <tr>\n",
       "      <th>non-CV death</th>\n",
       "      <td>84</td>\n",
       "      <td>37</td>\n",
       "    </tr>\n",
       "  </tbody>\n",
       "</table>\n",
       "</div>"
      ],
      "text/plain": [
       "sexo          hombre  mujer\n",
       "muerte                     \n",
       "CV death          47     23\n",
       "non-CV death      84     37"
      ]
     },
     "execution_count": 16,
     "metadata": {},
     "output_type": "execute_result"
    }
   ],
   "source": [
    "\n",
    "\n",
    "DF.pivot_table(index=\"muerte\",columns=\"sexo\",values = \"Códigobiobanco\",aggfunc = np.count_nonzero)\n",
    "\n"
   ]
  },
  {
   "cell_type": "markdown",
   "metadata": {},
   "source": [
    "Let's see now if this trend remains when looking for CV events instead of deaths by CV events :"
   ]
  },
  {
   "cell_type": "code",
   "execution_count": 1,
   "metadata": {},
   "outputs": [
    {
     "ename": "NameError",
     "evalue": "name 'df_complete' is not defined",
     "output_type": "error",
     "traceback": [
      "\u001b[0;31m---------------------------------------------------------------------------\u001b[0m",
      "\u001b[0;31mNameError\u001b[0m                                 Traceback (most recent call last)",
      "\u001b[0;32m<ipython-input-1-4ec4c30ba785>\u001b[0m in \u001b[0;36m<module>\u001b[0;34m()\u001b[0m\n\u001b[1;32m      9\u001b[0m                    \"DescECV1\",\"TipoECV1\",\"muerte\",\"CausaMuerte\",\"DescMuerte\",\"Muerte_S_N\",\"EventoCV_Si_No\", \"ECV1\"]\n\u001b[1;32m     10\u001b[0m \u001b[0;34m\u001b[0m\u001b[0m\n\u001b[0;32m---> 11\u001b[0;31m \u001b[0mDF\u001b[0m \u001b[0;34m=\u001b[0m \u001b[0mdf_complete\u001b[0m\u001b[0;34m[\u001b[0m\u001b[0mcolumns_interest\u001b[0m\u001b[0;34m]\u001b[0m\u001b[0;34m\u001b[0m\u001b[0m\n\u001b[0m",
      "\u001b[0;31mNameError\u001b[0m: name 'df_complete' is not defined"
     ]
    }
   ],
   "source": [
    "columns_interest = [\"Códigobiobanco\",\"sexo\",\"Tabaquismo_Si_No\",\"Ingestaalcoholgdia\",\"diabetes\",\"hipertenso\",\n",
    "                    \"dislipemico\",\n",
    "                   \"Edadfechaexploracionvascular\",\"GIMmedio\",\"GIM_Med_TRUNC\",\"GIM_Med_CC_TRUNC\",\"ITB\",\n",
    "                    \"nplacas_carotid\",\n",
    "                   \"nplacas_femoral\",\"clasif_cc_d\",\"clasif_med_bif_d\",\"clasif_med_car_d\",\"clasif_cc_i\",\n",
    "                    \"clasif_med_bif_i\",\n",
    "                   \"clasif_med_car_i\",\"clasif_fem_com_d\",\"clasif_fem_sup_d\",\"clasif_fem_com_i\",\n",
    "                    \"clasif_fem_sup_i\",\n",
    "                   \"DescECV1\",\"TipoECV1\",\"muerte\",\"CausaMuerte\",\"DescMuerte\",\"Muerte_S_N\",\"EventoCV_Si_No\", \"ECV1\"]\n",
    "\n",
    "DF = df_complete[columns_interest]"
   ]
  },
  {
   "cell_type": "code",
   "execution_count": 43,
   "metadata": {},
   "outputs": [
    {
     "name": "stderr",
     "output_type": "stream",
     "text": [
      "/Users/jonatanpinol/anaconda3/lib/python3.6/site-packages/ipykernel_launcher.py:2: SettingWithCopyWarning: \n",
      "A value is trying to be set on a copy of a slice from a DataFrame.\n",
      "Try using .loc[row_indexer,col_indexer] = value instead\n",
      "\n",
      "See the caveats in the documentation: http://pandas.pydata.org/pandas-docs/stable/indexing.html#indexing-view-versus-copy\n",
      "  \n"
     ]
    }
   ],
   "source": [
    "#DF = DF[DF[\"ECV1\"]!=\"Alive\"]\n",
    "DF[\"sexo\"] = np.where(DF[\"sexo\"]==0,\"Male\",\"Female\")\n"
   ]
  },
  {
   "cell_type": "markdown",
   "metadata": {},
   "source": []
  },
  {
   "cell_type": "code",
   "execution_count": 44,
   "metadata": {},
   "outputs": [
    {
     "name": "stderr",
     "output_type": "stream",
     "text": [
      "/Users/jonatanpinol/anaconda3/lib/python3.6/site-packages/ipykernel_launcher.py:4: SettingWithCopyWarning: \n",
      "A value is trying to be set on a copy of a slice from a DataFrame.\n",
      "Try using .loc[row_indexer,col_indexer] = value instead\n",
      "\n",
      "See the caveats in the documentation: http://pandas.pydata.org/pandas-docs/stable/indexing.html#indexing-view-versus-copy\n",
      "  after removing the cwd from sys.path.\n"
     ]
    },
    {
     "data": {
      "image/png": "[encoded data removed]",
      "text/plain": [
       "<matplotlib.figure.Figure at 0x1a10b941d0>"
      ]
     },
     "metadata": {},
     "output_type": "display_data"
    }
   ],
   "source": [
    "import seaborn as sns\n",
    "\n",
    "IMT = \"GIM_Med_TRUNC\"\n",
    "DF[\"ECV1\"] = np.where(DF[\"ECV1\"] == 0, \"No event CV\", \"Event CV\")\n",
    "DF = DF.rename(columns = {\"GIM_Med_TRUNC\": \"mean IMT\", \"sexo\":\"sex\"})\n",
    "ax = plt.figure(figsize=(10,10))\n",
    "sns.set_style(\"whitegrid\")\n",
    "sns.violinplot(x=\"ECV1\",y=\"mean IMT\", hue=\"sex\",data=DF,palette=\"Set2\", split=True)\n",
    "#ax.legend(ncol=2, loc=\"upper right\", frameon=True)\n",
    "#ax.set(xlabel=\"CV Events yes/no\")\n",
    "\n",
    "plt.title(\"Histrograms of IMT depending on gender and death cause\")\n",
    "plt.show()"
   ]
  },
  {
   "cell_type": "markdown",
   "metadata": {},
   "source": [
    "We see that while the distribution on male subjects remains quite similar, for females the IMT value is accumulated towards lower values for subjects that didn't suffered any CV event."
   ]
  },
  {
   "cell_type": "markdown",
   "metadata": {},
   "source": [
    "\n",
    "We perform a T-test to determine weather the IMT is correlated with the cause of death.\n",
    "We would like to assert that the mean of the IMT values of the Non casdiavascular death cause distribution is higher than the IMT values of the cardiovascular death causes distribution.\n",
    "\n",
    "Assuming that both distributions have the same variance our hyptessis are:\n",
    "$$\n",
    "H_0: \\mu_0=\\mu_1\n",
    "$$\n",
    "$$\n",
    "H_A: \\mu_0 \\neq \\mu_1\n",
    "$$\n",
    "\n",
    "where $\\mu_0$ and $\\mu_1$ are the mean of the IMT values distributions of patients with cardiovascular and not cardiovascular cause of death respetively. \n"
   ]
  },
  {
   "cell_type": "code",
   "execution_count": 92,
   "metadata": {},
   "outputs": [
    {
     "data": {
      "text/plain": [
       "Ttest_indResult(statistic=4.2466882548173164, pvalue=2.8202591043107945e-05)"
      ]
     },
     "execution_count": 92,
     "metadata": {},
     "output_type": "execute_result"
    }
   ],
   "source": [
    "# males\n",
    "from scipy.stats import ttest_ind\n",
    "DF_males = DF[DF[\"sex\"]==\"Male\"]\n",
    "data_mortCard=DF_males[\"mean IMT\"][DF[\"ECV1\"]==\"Event CV\"].fillna(0).values\n",
    "data_NomortCard=DF_males[\"mean IMT\"][DF[\"ECV1\"]==\"No event CV\"].fillna(0).sample(n=len(data_mortCard)).values\n",
    "twosample_results = ttest_ind(data_mortCard, data_NomortCard)\n",
    "\n",
    "twosample_results"
   ]
  },
  {
   "cell_type": "code",
   "execution_count": null,
   "metadata": {
    "collapsed": true
   },
   "outputs": [],
   "source": []
  },
  {
   "cell_type": "code",
   "execution_count": 88,
   "metadata": {},
   "outputs": [
    {
     "name": "stdout",
     "output_type": "stream",
     "text": [
      "variance male with CV : 0.0689711715631\n",
      "variance male withOUT CV : 0.0657827411006\n"
     ]
    }
   ],
   "source": [
    "print(\"variance male with CV :\",np.var(data_mortCard))\n",
    "print(\"variance male withOUT CV :\",np.var(data_NomortCard))"
   ]
  },
  {
   "cell_type": "code",
   "execution_count": 95,
   "metadata": {},
   "outputs": [
    {
     "data": {
      "text/plain": [
       "Ttest_indResult(statistic=5.4592229340707581, pvalue=5.8106201733453134e-08)"
      ]
     },
     "execution_count": 95,
     "metadata": {},
     "output_type": "execute_result"
    }
   ],
   "source": [
    "# females\n",
    "DF_females = DF[DF[\"sex\"]==\"Female\"]\n",
    "data_mortCard=DF_females[\"mean IMT\"][DF[\"ECV1\"]==\"Event CV\"].fillna(0).values\n",
    "data_NomortCard=DF_females[\"mean IMT\"][DF[\"ECV1\"]==\"No event CV\"].fillna(0).values\n",
    "twosample_results = ttest_ind(data_mortCard, data_NomortCard)\n",
    "\n",
    "twosample_results"
   ]
  },
  {
   "cell_type": "code",
   "execution_count": 90,
   "metadata": {},
   "outputs": [
    {
     "name": "stdout",
     "output_type": "stream",
     "text": [
      "variance female with CV : 0.0892851586706\n",
      "variance female withOUT CV : 0.0598768176216\n"
     ]
    }
   ],
   "source": [
    "print(\"variance female with CV :\",np.var(data_mortCard))\n",
    "print(\"variance female withOUT CV :\",np.var(data_NomortCard))"
   ]
  },
  {
   "cell_type": "markdown",
   "metadata": {},
   "source": [
    "We obtain a p-value of 5.8106201733453134e-08. Hence there is statistical evidence to reject the null hypotesis."
   ]
  },
  {
   "cell_type": "code",
   "execution_count": 20,
   "metadata": {},
   "outputs": [
    {
     "data": {
      "text/html": [
       "<div>\n",
       "<style>\n",
       "    .dataframe thead tr:only-child th {\n",
       "        text-align: right;\n",
       "    }\n",
       "\n",
       "    .dataframe thead th {\n",
       "        text-align: left;\n",
       "    }\n",
       "\n",
       "    .dataframe tbody tr th {\n",
       "        vertical-align: top;\n",
       "    }\n",
       "</style>\n",
       "<table border=\"1\" class=\"dataframe\">\n",
       "  <thead>\n",
       "    <tr style=\"text-align: right;\">\n",
       "      <th>sexo</th>\n",
       "      <th>hombre</th>\n",
       "      <th>mujer</th>\n",
       "    </tr>\n",
       "    <tr>\n",
       "      <th>ECV1</th>\n",
       "      <th></th>\n",
       "      <th></th>\n",
       "    </tr>\n",
       "  </thead>\n",
       "  <tbody>\n",
       "    <tr>\n",
       "      <th>Event CV</th>\n",
       "      <td>167</td>\n",
       "      <td>73</td>\n",
       "    </tr>\n",
       "    <tr>\n",
       "      <th>No event CV</th>\n",
       "      <td>1639</td>\n",
       "      <td>1125</td>\n",
       "    </tr>\n",
       "  </tbody>\n",
       "</table>\n",
       "</div>"
      ],
      "text/plain": [
       "sexo         hombre  mujer\n",
       "ECV1                      \n",
       "Event CV        167     73\n",
       "No event CV    1639   1125"
      ]
     },
     "execution_count": 20,
     "metadata": {},
     "output_type": "execute_result"
    }
   ],
   "source": [
    "#200 eventos registrats de los cuales 191 morts \n",
    "\n",
    "DF.pivot_table(index=\"ECV1\",columns=\"sexo\",values = \"Códigobiobanco\",aggfunc = np.count_nonzero)\n",
    "\n",
    "# mirar si està normalitzat les histogrames o no \n"
   ]
  },
  {
   "cell_type": "code",
   "execution_count": null,
   "metadata": {
    "collapsed": true
   },
   "outputs": [],
   "source": []
  },
  {
   "cell_type": "code",
   "execution_count": null,
   "metadata": {
    "collapsed": true
   },
   "outputs": [],
   "source": []
  }
 ],
 "metadata": {
  "kernelspec": {
   "display_name": "Python 3",
   "language": "python",
   "name": "python3"
  },
  "language_info": {
   "codemirror_mode": {
    "name": "ipython",
    "version": 3
   },
   "file_extension": ".py",
   "mimetype": "text/x-python",
   "name": "python",
   "nbconvert_exporter": "python",
   "pygments_lexer": "ipython3",
   "version": "3.6.3"
  }
 },
 "nbformat": 4,
 "nbformat_minor": 2
}
