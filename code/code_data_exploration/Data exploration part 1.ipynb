{
 "cells": [
  {
   "cell_type": "markdown",
   "metadata": {},
   "source": [
    "# Data Exploration / Visualization (part 1): \n"
   ]
  },
  {
   "cell_type": "markdown",
   "metadata": {},
   "source": [
    "Based on the articles in the state of the art, some of the more interesting insights to explore are the following ones:\n",
    "\n",
    "+ plaque pressence (territory independent) VS CV event\n",
    "+ atheroma extent VS CV event (violin)\n",
    "+ IMT VS CV event (violin )\n",
    "+ independent factors, how do they affect on a plaque presence and how related they are for a CV event."
   ]
  },
  {
   "cell_type": "markdown",
   "metadata": {},
   "source": [
    "We will have to take into account the variables that can be confounders of the variables under study. \n",
    "\n",
    "In [ref: \"Confounding Variables in Epidemiologic Studies: Basics and Beyond\"] it states that finding those variables that can be confounders is not an evident job. Some statistical techniques can be considered but normally a knowledge domain can be more useful."
   ]
  },
  {
   "cell_type": "markdown",
   "metadata": {},
   "source": [
    "Before dealing with that, let's see a summary of some of the characteristics in the dataset, in numbers :"
   ]
  },
  {
   "cell_type": "code",
   "execution_count": 25,
   "metadata": {},
   "outputs": [
    {
     "name": "stdout",
     "output_type": "stream",
     "text": [
      "['placas_cc_d', 'placas_med_bif_d', 'placas_med_car_d', 'placas_cc_i', 'placas_med_bif_i', 'placas_med_car_i', 'placas_fem_com_d', 'placas_fem_sup_d', 'placas_fem_com_i', 'placas_fem_sup_i']\n"
     ]
    }
   ],
   "source": [
    "import pandas as pd\n",
    "import numpy as np\n",
    "import matplotlib.pyplot as plt\n",
    "\n",
    "\n",
    "df_total=pd.read_excel(\"DATA/dades_excels/base de datos seguiments130618.xlsx\")\n",
    "df_total.set_index('Códigobiobanco', inplace=True)\n",
    "COL=df_total.columns\n",
    "l=[]\n",
    "for x in COL:\n",
    "    if (x[:4]=='plac'):\n",
    "        l.append(x)\n",
    "        \n",
    "l=l[:10] # contains all column names with plaque\n",
    "print(l)\n",
    "cols_clas_placa=l+['EventoCV_Si_No','muerte',\"sexo\"]\n",
    "df= df_total.loc[:,cols_clas_placa]\n",
    "df['Totalplaques']=df[l[0]].fillna(0)+df[l[1]].fillna(0)+df[l[2]].fillna(0)+df[l[3]].fillna(0)+df[l[4]].fillna(0)+df[l[5]].fillna(0)+df[l[6]].fillna(0)+df[l[7]].fillna(0)+df[l[8]].fillna(0)+df[l[9]].fillna(0)\n",
    "df['CCAplaca']=df['placas_cc_d']+df['placas_cc_i']\n",
    "df['bulb_placa']= df['placas_med_bif_d']+df['placas_med_bif_d']\n",
    "df['mortCV']=df['muerte']=='CV death'"
   ]
  },
  {
   "cell_type": "code",
   "execution_count": 8,
   "metadata": {},
   "outputs": [
    {
     "data": {
      "text/plain": [
       "327"
      ]
     },
     "execution_count": 8,
     "metadata": {},
     "output_type": "execute_result"
    }
   ],
   "source": [
    "len(df_total.columns)"
   ]
  },
  {
   "cell_type": "markdown",
   "metadata": {},
   "source": [
    "The dataset has 327 variables, but we will be mostly interested in the following ones:"
   ]
  },
  {
   "cell_type": "code",
   "execution_count": 9,
   "metadata": {},
   "outputs": [],
   "source": [
    "interesting_columns = [\"sexo\",\"Tabaquismo_Si_No\",\"tipoindividuo\",\"Ingestaalcoholgdia\",\"diabetes\",\"hipertenso\",\"dislipemico\",\n",
    "                       \"Edadfechaexploracionvascular\",\"GIMmedio\",'EventoCV_Si_No',\"TipoECV1\",\"muerte\",\n",
    "                       \"Muerte_S_N\"]+l"
   ]
  },
  {
   "cell_type": "code",
   "execution_count": 10,
   "metadata": {},
   "outputs": [
    {
     "data": {
      "text/plain": [
       "['sexo',\n",
       " 'Tabaquismo_Si_No',\n",
       " 'tipoindividuo',\n",
       " 'Ingestaalcoholgdia',\n",
       " 'diabetes',\n",
       " 'hipertenso',\n",
       " 'dislipemico',\n",
       " 'Edadfechaexploracionvascular',\n",
       " 'GIMmedio',\n",
       " 'EventoCV_Si_No',\n",
       " 'TipoECV1',\n",
       " 'muerte',\n",
       " 'Muerte_S_N',\n",
       " 'placas_cc_d',\n",
       " 'placas_med_bif_d',\n",
       " 'placas_med_car_d',\n",
       " 'placas_cc_i',\n",
       " 'placas_med_bif_i',\n",
       " 'placas_med_car_i',\n",
       " 'placas_fem_com_d',\n",
       " 'placas_fem_sup_d',\n",
       " 'placas_fem_com_i',\n",
       " 'placas_fem_sup_i']"
      ]
     },
     "execution_count": 10,
     "metadata": {},
     "output_type": "execute_result"
    }
   ],
   "source": [
    "interesting_columns"
   ]
  },
  {
   "cell_type": "markdown",
   "metadata": {},
   "source": [
    "Let's do some manipulations to have the data in a firendlier format:"
   ]
  },
  {
   "cell_type": "code",
   "execution_count": 11,
   "metadata": {},
   "outputs": [
    {
     "name": "stderr",
     "output_type": "stream",
     "text": [
      "/Users/jonatanpinol/anaconda3/lib/python3.6/site-packages/ipykernel_launcher.py:2: SettingWithCopyWarning: \n",
      "A value is trying to be set on a copy of a slice from a DataFrame.\n",
      "Try using .loc[row_indexer,col_indexer] = value instead\n",
      "\n",
      "See the caveats in the documentation: http://pandas.pydata.org/pandas-docs/stable/indexing.html#indexing-view-versus-copy\n",
      "  \n",
      "/Users/jonatanpinol/anaconda3/lib/python3.6/site-packages/ipykernel_launcher.py:7: SettingWithCopyWarning: \n",
      "A value is trying to be set on a copy of a slice from a DataFrame.\n",
      "Try using .loc[row_indexer,col_indexer] = value instead\n",
      "\n",
      "See the caveats in the documentation: http://pandas.pydata.org/pandas-docs/stable/indexing.html#indexing-view-versus-copy\n",
      "  import sys\n",
      "/Users/jonatanpinol/anaconda3/lib/python3.6/site-packages/ipykernel_launcher.py:10: SettingWithCopyWarning: \n",
      "A value is trying to be set on a copy of a slice from a DataFrame.\n",
      "Try using .loc[row_indexer,col_indexer] = value instead\n",
      "\n",
      "See the caveats in the documentation: http://pandas.pydata.org/pandas-docs/stable/indexing.html#indexing-view-versus-copy\n",
      "  # Remove the CWD from sys.path while we load stuff.\n",
      "/Users/jonatanpinol/anaconda3/lib/python3.6/site-packages/ipykernel_launcher.py:11: SettingWithCopyWarning: \n",
      "A value is trying to be set on a copy of a slice from a DataFrame.\n",
      "Try using .loc[row_indexer,col_indexer] = value instead\n",
      "\n",
      "See the caveats in the documentation: http://pandas.pydata.org/pandas-docs/stable/indexing.html#indexing-view-versus-copy\n",
      "  # This is added back by InteractiveShellApp.init_path()\n",
      "/Users/jonatanpinol/anaconda3/lib/python3.6/site-packages/ipykernel_launcher.py:12: SettingWithCopyWarning: \n",
      "A value is trying to be set on a copy of a slice from a DataFrame.\n",
      "Try using .loc[row_indexer,col_indexer] = value instead\n",
      "\n",
      "See the caveats in the documentation: http://pandas.pydata.org/pandas-docs/stable/indexing.html#indexing-view-versus-copy\n",
      "  if sys.path[0] == '':\n",
      "/Users/jonatanpinol/anaconda3/lib/python3.6/site-packages/ipykernel_launcher.py:13: SettingWithCopyWarning: \n",
      "A value is trying to be set on a copy of a slice from a DataFrame.\n",
      "Try using .loc[row_indexer,col_indexer] = value instead\n",
      "\n",
      "See the caveats in the documentation: http://pandas.pydata.org/pandas-docs/stable/indexing.html#indexing-view-versus-copy\n",
      "  del sys.path[0]\n",
      "/Users/jonatanpinol/anaconda3/lib/python3.6/site-packages/ipykernel_launcher.py:14: SettingWithCopyWarning: \n",
      "A value is trying to be set on a copy of a slice from a DataFrame.\n",
      "Try using .loc[row_indexer,col_indexer] = value instead\n",
      "\n",
      "See the caveats in the documentation: http://pandas.pydata.org/pandas-docs/stable/indexing.html#indexing-view-versus-copy\n",
      "  \n",
      "/Users/jonatanpinol/anaconda3/lib/python3.6/site-packages/ipykernel_launcher.py:15: SettingWithCopyWarning: \n",
      "A value is trying to be set on a copy of a slice from a DataFrame.\n",
      "Try using .loc[row_indexer,col_indexer] = value instead\n",
      "\n",
      "See the caveats in the documentation: http://pandas.pydata.org/pandas-docs/stable/indexing.html#indexing-view-versus-copy\n",
      "  from ipykernel import kernelapp as app\n",
      "/Users/jonatanpinol/anaconda3/lib/python3.6/site-packages/ipykernel_launcher.py:16: SettingWithCopyWarning: \n",
      "A value is trying to be set on a copy of a slice from a DataFrame.\n",
      "Try using .loc[row_indexer,col_indexer] = value instead\n",
      "\n",
      "See the caveats in the documentation: http://pandas.pydata.org/pandas-docs/stable/indexing.html#indexing-view-versus-copy\n",
      "  app.launch_new_instance()\n",
      "/Users/jonatanpinol/anaconda3/lib/python3.6/site-packages/ipykernel_launcher.py:17: SettingWithCopyWarning: \n",
      "A value is trying to be set on a copy of a slice from a DataFrame.\n",
      "Try using .loc[row_indexer,col_indexer] = value instead\n",
      "\n",
      "See the caveats in the documentation: http://pandas.pydata.org/pandas-docs/stable/indexing.html#indexing-view-versus-copy\n"
     ]
    }
   ],
   "source": [
    "df_resum = df_total[interesting_columns]\n",
    "df_resum[\"code\"] = df_resum.index\n",
    "df_resum[\"franja_edat\"] = np.where(df_resum[\"Edadfechaexploracionvascular\"]<=35,\"age <=35\",\n",
    "                                  np.where(df_resum[\"Edadfechaexploracionvascular\"]<=45,\"age 36-45\",\n",
    "                                  np.where(df_resum[\"Edadfechaexploracionvascular\"]<=55,\"age 46-55\",\n",
    "                                  np.where(df_resum[\"Edadfechaexploracionvascular\"]<=65,\"age 56-65\",\n",
    "                                  np.where(df_resum[\"Edadfechaexploracionvascular\"]<=75,\"age 66-75\",\"age >75\"\n",
    "                                  )))))\n",
    "\n",
    "df_resum[\"EventoCV_Si_No\"] = np.where(df_resum[\"EventoCV_Si_No\"] == 0 , \"NO CV Event\", \"YES CV Event\")\n",
    "df_resum[\"sexo\"] = np.where(df_resum[\"sexo\"] == 0 , \"Male\",\"Female\")\n",
    "df_resum[\"diabetes\"] = np.where(df_resum[\"diabetes\"] == 0, \"No Diabetes\", \"Yes Diabetes\")\n",
    "df_resum[\"hipertenso\"] = np.where(df_resum[\"hipertenso\"] == 0 , \"No Hypertens\", \"Yes Hypertens\")\n",
    "df_resum[\"dislipemico\"] = np.where(df_resum[\"dislipemico\"] == 0 , \"No dyslipemic\", \"Yes dyslipemic\")\n",
    "df_resum[\"Tabaquismo_Si_No\"] = np.where(df_resum[\"Tabaquismo_Si_No\"] == 0 , \"No smoking\", \"Yes smoking\")\n",
    "df_resum[\"Presence_plaque\"] = np.where(df[\"Totalplaques\"] > 0 , \"Plaque\", \"No plaque\")\n",
    "df_resum['Totalplaques']=df_resum[l[0]].fillna(0)+df_resum[l[1]].fillna(0)+df_resum[l[2]].fillna(0)+df_resum[l[3]].fillna(0)+df_resum[l[4]].fillna(0)+df_resum[l[5]].fillna(0)+df_resum[l[6]].fillna(0)+df_resum[l[7]].fillna(0)+df_resum[l[8]].fillna(0)+df_resum[l[9]].fillna(0)"
   ]
  },
  {
   "cell_type": "code",
   "execution_count": 12,
   "metadata": {
    "collapsed": true
   },
   "outputs": [],
   "source": [
    "pivot_1 = df_resum.pivot_table(index=[\"sexo\"],columns=\"EventoCV_Si_No\",values = \"code\",aggfunc = np.count_nonzero)\n",
    "pivot_2 = df_resum.pivot_table(index=[\"diabetes\"],columns=\"EventoCV_Si_No\",values = \"code\",aggfunc = np.count_nonzero)\n",
    "pivot_3 = df_resum.pivot_table(index=[\"hipertenso\"],columns=\"EventoCV_Si_No\",values = \"code\",aggfunc = np.count_nonzero)\n",
    "pivot_4 = df_resum.pivot_table(index=[\"dislipemico\"],columns=\"EventoCV_Si_No\",values = \"code\",aggfunc = np.count_nonzero)\n",
    "pivot_5 = df_resum.pivot_table(index=\"franja_edat\",columns=\"EventoCV_Si_No\",values = \"code\",aggfunc = np.count_nonzero)"
   ]
  },
  {
   "cell_type": "markdown",
   "metadata": {},
   "source": [
    "This table the number of patients for qualitative variables registered for the patients in the NEFRONA study. In [paper 3 de NEFRONA] states that this factors are considered risk factors associated with having CV events."
   ]
  },
  {
   "cell_type": "code",
   "execution_count": 13,
   "metadata": {},
   "outputs": [
    {
     "data": {
      "text/html": [
       "<div>\n",
       "<style>\n",
       "    .dataframe thead tr:only-child th {\n",
       "        text-align: right;\n",
       "    }\n",
       "\n",
       "    .dataframe thead th {\n",
       "        text-align: left;\n",
       "    }\n",
       "\n",
       "    .dataframe tbody tr th {\n",
       "        vertical-align: top;\n",
       "    }\n",
       "</style>\n",
       "<table border=\"1\" class=\"dataframe\">\n",
       "  <thead>\n",
       "    <tr style=\"text-align: right;\">\n",
       "      <th>EventoCV_Si_No</th>\n",
       "      <th>NO CV Event</th>\n",
       "      <th>YES CV Event</th>\n",
       "    </tr>\n",
       "  </thead>\n",
       "  <tbody>\n",
       "    <tr>\n",
       "      <th>Female</th>\n",
       "      <td>1132</td>\n",
       "      <td>66</td>\n",
       "    </tr>\n",
       "    <tr>\n",
       "      <th>Male</th>\n",
       "      <td>1656</td>\n",
       "      <td>150</td>\n",
       "    </tr>\n",
       "    <tr>\n",
       "      <th>No Diabetes</th>\n",
       "      <td>2199</td>\n",
       "      <td>124</td>\n",
       "    </tr>\n",
       "    <tr>\n",
       "      <th>Yes Diabetes</th>\n",
       "      <td>589</td>\n",
       "      <td>92</td>\n",
       "    </tr>\n",
       "    <tr>\n",
       "      <th>No Hypertens</th>\n",
       "      <td>564</td>\n",
       "      <td>15</td>\n",
       "    </tr>\n",
       "    <tr>\n",
       "      <th>Yes Hypertens</th>\n",
       "      <td>2224</td>\n",
       "      <td>201</td>\n",
       "    </tr>\n",
       "    <tr>\n",
       "      <th>No dyslipemic</th>\n",
       "      <td>1134</td>\n",
       "      <td>59</td>\n",
       "    </tr>\n",
       "    <tr>\n",
       "      <th>Yes dyslipemic</th>\n",
       "      <td>1654</td>\n",
       "      <td>157</td>\n",
       "    </tr>\n",
       "  </tbody>\n",
       "</table>\n",
       "</div>"
      ],
      "text/plain": [
       "EventoCV_Si_No  NO CV Event  YES CV Event\n",
       "Female                 1132            66\n",
       "Male                   1656           150\n",
       "No Diabetes            2199           124\n",
       "Yes Diabetes            589            92\n",
       "No Hypertens            564            15\n",
       "Yes Hypertens          2224           201\n",
       "No dyslipemic          1134            59\n",
       "Yes dyslipemic         1654           157"
      ]
     },
     "execution_count": 13,
     "metadata": {},
     "output_type": "execute_result"
    }
   ],
   "source": [
    "pivot_ = pd.concat([pivot_1, pivot_2,pivot_3,pivot_4]).fillna(0)\n",
    "pivot_"
   ]
  },
  {
   "cell_type": "markdown",
   "metadata": {},
   "source": [
    "Let's have a look now on some of the quantitative factors: "
   ]
  },
  {
   "cell_type": "code",
   "execution_count": 14,
   "metadata": {},
   "outputs": [
    {
     "data": {
      "text/plain": [
       "(8.02624311169712,\n",
       " 0.0046104371091944653,\n",
       " 1,\n",
       " array([[ 1111.85885486,    86.14114514],\n",
       "        [ 1676.14114514,   129.85885486]]))"
      ]
     },
     "execution_count": 14,
     "metadata": {},
     "output_type": "execute_result"
    }
   ],
   "source": [
    "from scipy import stats\n",
    "# chi square test, do gender and cv are independent?\n",
    "# null hypothesis : they are independent\n",
    "stats.chi2_contingency(pivot_1.values)\n",
    "# p-value = 0.0046 < 0.01 -> they are independent"
   ]
  },
  {
   "cell_type": "code",
   "execution_count": 15,
   "metadata": {},
   "outputs": [
    {
     "data": {
      "text/plain": [
       "array([[1132, 1656],\n",
       "       [  66,  150]])"
      ]
     },
     "execution_count": 15,
     "metadata": {},
     "output_type": "execute_result"
    }
   ],
   "source": [
    "pivot_1.values.T"
   ]
  },
  {
   "cell_type": "code",
   "execution_count": 16,
   "metadata": {},
   "outputs": [
    {
     "data": {
      "text/html": [
       "<div>\n",
       "<style>\n",
       "    .dataframe thead tr:only-child th {\n",
       "        text-align: right;\n",
       "    }\n",
       "\n",
       "    .dataframe thead th {\n",
       "        text-align: left;\n",
       "    }\n",
       "\n",
       "    .dataframe tbody tr th {\n",
       "        vertical-align: top;\n",
       "    }\n",
       "</style>\n",
       "<table border=\"1\" class=\"dataframe\">\n",
       "  <thead>\n",
       "    <tr style=\"text-align: right;\">\n",
       "      <th></th>\n",
       "      <th>code</th>\n",
       "    </tr>\n",
       "    <tr>\n",
       "      <th>sexo</th>\n",
       "      <th></th>\n",
       "    </tr>\n",
       "  </thead>\n",
       "  <tbody>\n",
       "    <tr>\n",
       "      <th>Female</th>\n",
       "      <td>1198</td>\n",
       "    </tr>\n",
       "    <tr>\n",
       "      <th>Male</th>\n",
       "      <td>1806</td>\n",
       "    </tr>\n",
       "  </tbody>\n",
       "</table>\n",
       "</div>"
      ],
      "text/plain": [
       "        code\n",
       "sexo        \n",
       "Female  1198\n",
       "Male    1806"
      ]
     },
     "execution_count": 16,
     "metadata": {},
     "output_type": "execute_result"
    }
   ],
   "source": [
    "df_resum.pivot_table(index=[\"sexo\"],values = \"code\",aggfunc = np.count_nonzero)"
   ]
  },
  {
   "cell_type": "markdown",
   "metadata": {},
   "source": [
    "The first aspect to view may be directly how a plaque presence is related to have a CV event. In this paper [] this idea is already explored."
   ]
  },
  {
   "cell_type": "code",
   "execution_count": 17,
   "metadata": {
    "collapsed": true
   },
   "outputs": [],
   "source": [
    "df[\"EventoCV_Si_No\"] = np.where(df[\"EventoCV_Si_No\"] == 0, \"No event CV\", \"Event CV\")\n",
    "df[\"sexo\"] = np.where(df[\"sexo\"] == 0, \"Female\", \"Male\")\n"
   ]
  },
  {
   "cell_type": "markdown",
   "metadata": {},
   "source": [
    "# Plaque Pressence (independent on territory) VS CV event"
   ]
  },
  {
   "cell_type": "markdown",
   "metadata": {},
   "source": [
    "This section wants to answer the first aspect, is the plaque pressence related to ultimately having a CV event? "
   ]
  },
  {
   "cell_type": "code",
   "execution_count": 18,
   "metadata": {},
   "outputs": [
    {
     "name": "stderr",
     "output_type": "stream",
     "text": [
      "/Users/jonatanpinol/anaconda3/lib/python3.6/site-packages/ipykernel_launcher.py:1: SettingWithCopyWarning: \n",
      "A value is trying to be set on a copy of a slice from a DataFrame.\n",
      "Try using .loc[row_indexer,col_indexer] = value instead\n",
      "\n",
      "See the caveats in the documentation: http://pandas.pydata.org/pandas-docs/stable/indexing.html#indexing-view-versus-copy\n",
      "  \"\"\"Entry point for launching an IPython kernel.\n"
     ]
    },
    {
     "data": {
      "text/html": [
       "<div>\n",
       "<style>\n",
       "    .dataframe thead tr:only-child th {\n",
       "        text-align: right;\n",
       "    }\n",
       "\n",
       "    .dataframe thead th {\n",
       "        text-align: left;\n",
       "    }\n",
       "\n",
       "    .dataframe tbody tr th {\n",
       "        vertical-align: top;\n",
       "    }\n",
       "</style>\n",
       "<table border=\"1\" class=\"dataframe\">\n",
       "  <thead>\n",
       "    <tr style=\"text-align: right;\">\n",
       "      <th></th>\n",
       "      <th>sexo</th>\n",
       "      <th>Tabaquismo_Si_No</th>\n",
       "      <th>tipoindividuo</th>\n",
       "      <th>Ingestaalcoholgdia</th>\n",
       "      <th>diabetes</th>\n",
       "      <th>hipertenso</th>\n",
       "      <th>dislipemico</th>\n",
       "      <th>Edadfechaexploracionvascular</th>\n",
       "      <th>GIMmedio</th>\n",
       "      <th>EventoCV_Si_No</th>\n",
       "      <th>...</th>\n",
       "      <th>placas_med_bif_i</th>\n",
       "      <th>placas_med_car_i</th>\n",
       "      <th>placas_fem_com_d</th>\n",
       "      <th>placas_fem_sup_d</th>\n",
       "      <th>placas_fem_com_i</th>\n",
       "      <th>placas_fem_sup_i</th>\n",
       "      <th>code</th>\n",
       "      <th>franja_edat</th>\n",
       "      <th>Presence_plaque</th>\n",
       "      <th>Totalplaques</th>\n",
       "    </tr>\n",
       "    <tr>\n",
       "      <th>Códigobiobanco</th>\n",
       "      <th></th>\n",
       "      <th></th>\n",
       "      <th></th>\n",
       "      <th></th>\n",
       "      <th></th>\n",
       "      <th></th>\n",
       "      <th></th>\n",
       "      <th></th>\n",
       "      <th></th>\n",
       "      <th></th>\n",
       "      <th></th>\n",
       "      <th></th>\n",
       "      <th></th>\n",
       "      <th></th>\n",
       "      <th></th>\n",
       "      <th></th>\n",
       "      <th></th>\n",
       "      <th></th>\n",
       "      <th></th>\n",
       "      <th></th>\n",
       "      <th></th>\n",
       "    </tr>\n",
       "  </thead>\n",
       "  <tbody>\n",
       "    <tr>\n",
       "      <th>1801</th>\n",
       "      <td>Male</td>\n",
       "      <td>Yes smoking</td>\n",
       "      <td>1</td>\n",
       "      <td>10</td>\n",
       "      <td>Yes Diabetes</td>\n",
       "      <td>Yes Hypertens</td>\n",
       "      <td>No dyslipemic</td>\n",
       "      <td>73</td>\n",
       "      <td>0.955</td>\n",
       "      <td>NO CV Event</td>\n",
       "      <td>...</td>\n",
       "      <td>0.0</td>\n",
       "      <td>0.0</td>\n",
       "      <td>1.0</td>\n",
       "      <td>1.0</td>\n",
       "      <td>1.0</td>\n",
       "      <td>1.0</td>\n",
       "      <td>1801</td>\n",
       "      <td>age 66-75</td>\n",
       "      <td>Plaque</td>\n",
       "      <td>5.0</td>\n",
       "    </tr>\n",
       "    <tr>\n",
       "      <th>1802</th>\n",
       "      <td>Male</td>\n",
       "      <td>Yes smoking</td>\n",
       "      <td>1</td>\n",
       "      <td>10</td>\n",
       "      <td>Yes Diabetes</td>\n",
       "      <td>Yes Hypertens</td>\n",
       "      <td>No dyslipemic</td>\n",
       "      <td>65</td>\n",
       "      <td>NaN</td>\n",
       "      <td>NO CV Event</td>\n",
       "      <td>...</td>\n",
       "      <td>1.0</td>\n",
       "      <td>1.0</td>\n",
       "      <td>0.0</td>\n",
       "      <td>1.0</td>\n",
       "      <td>0.0</td>\n",
       "      <td>0.0</td>\n",
       "      <td>1802</td>\n",
       "      <td>age 56-65</td>\n",
       "      <td>Plaque</td>\n",
       "      <td>6.0</td>\n",
       "    </tr>\n",
       "    <tr>\n",
       "      <th>1803</th>\n",
       "      <td>Male</td>\n",
       "      <td>Yes smoking</td>\n",
       "      <td>1</td>\n",
       "      <td>0</td>\n",
       "      <td>No Diabetes</td>\n",
       "      <td>Yes Hypertens</td>\n",
       "      <td>Yes dyslipemic</td>\n",
       "      <td>66</td>\n",
       "      <td>0.745</td>\n",
       "      <td>NO CV Event</td>\n",
       "      <td>...</td>\n",
       "      <td>0.0</td>\n",
       "      <td>0.0</td>\n",
       "      <td>0.0</td>\n",
       "      <td>0.0</td>\n",
       "      <td>0.0</td>\n",
       "      <td>0.0</td>\n",
       "      <td>1803</td>\n",
       "      <td>age 66-75</td>\n",
       "      <td>No plaque</td>\n",
       "      <td>0.0</td>\n",
       "    </tr>\n",
       "    <tr>\n",
       "      <th>1804</th>\n",
       "      <td>Male</td>\n",
       "      <td>Yes smoking</td>\n",
       "      <td>1</td>\n",
       "      <td>10</td>\n",
       "      <td>No Diabetes</td>\n",
       "      <td>Yes Hypertens</td>\n",
       "      <td>Yes dyslipemic</td>\n",
       "      <td>63</td>\n",
       "      <td>1.060</td>\n",
       "      <td>NO CV Event</td>\n",
       "      <td>...</td>\n",
       "      <td>1.0</td>\n",
       "      <td>1.0</td>\n",
       "      <td>1.0</td>\n",
       "      <td>0.0</td>\n",
       "      <td>0.0</td>\n",
       "      <td>0.0</td>\n",
       "      <td>1804</td>\n",
       "      <td>age 56-65</td>\n",
       "      <td>Plaque</td>\n",
       "      <td>5.0</td>\n",
       "    </tr>\n",
       "    <tr>\n",
       "      <th>1805</th>\n",
       "      <td>Male</td>\n",
       "      <td>Yes smoking</td>\n",
       "      <td>1</td>\n",
       "      <td>0</td>\n",
       "      <td>No Diabetes</td>\n",
       "      <td>Yes Hypertens</td>\n",
       "      <td>Yes dyslipemic</td>\n",
       "      <td>48</td>\n",
       "      <td>0.560</td>\n",
       "      <td>NO CV Event</td>\n",
       "      <td>...</td>\n",
       "      <td>0.0</td>\n",
       "      <td>0.0</td>\n",
       "      <td>0.0</td>\n",
       "      <td>0.0</td>\n",
       "      <td>0.0</td>\n",
       "      <td>0.0</td>\n",
       "      <td>1805</td>\n",
       "      <td>age 46-55</td>\n",
       "      <td>No plaque</td>\n",
       "      <td>0.0</td>\n",
       "    </tr>\n",
       "  </tbody>\n",
       "</table>\n",
       "<p>5 rows × 27 columns</p>\n",
       "</div>"
      ],
      "text/plain": [
       "                sexo Tabaquismo_Si_No  tipoindividuo  Ingestaalcoholgdia  \\\n",
       "Códigobiobanco                                                             \n",
       "1801            Male      Yes smoking              1                  10   \n",
       "1802            Male      Yes smoking              1                  10   \n",
       "1803            Male      Yes smoking              1                   0   \n",
       "1804            Male      Yes smoking              1                  10   \n",
       "1805            Male      Yes smoking              1                   0   \n",
       "\n",
       "                    diabetes     hipertenso     dislipemico  \\\n",
       "Códigobiobanco                                                \n",
       "1801            Yes Diabetes  Yes Hypertens   No dyslipemic   \n",
       "1802            Yes Diabetes  Yes Hypertens   No dyslipemic   \n",
       "1803             No Diabetes  Yes Hypertens  Yes dyslipemic   \n",
       "1804             No Diabetes  Yes Hypertens  Yes dyslipemic   \n",
       "1805             No Diabetes  Yes Hypertens  Yes dyslipemic   \n",
       "\n",
       "                Edadfechaexploracionvascular  GIMmedio EventoCV_Si_No  \\\n",
       "Códigobiobanco                                                          \n",
       "1801                                      73     0.955    NO CV Event   \n",
       "1802                                      65       NaN    NO CV Event   \n",
       "1803                                      66     0.745    NO CV Event   \n",
       "1804                                      63     1.060    NO CV Event   \n",
       "1805                                      48     0.560    NO CV Event   \n",
       "\n",
       "                    ...      placas_med_bif_i placas_med_car_i  \\\n",
       "Códigobiobanco      ...                                          \n",
       "1801                ...                   0.0              0.0   \n",
       "1802                ...                   1.0              1.0   \n",
       "1803                ...                   0.0              0.0   \n",
       "1804                ...                   1.0              1.0   \n",
       "1805                ...                   0.0              0.0   \n",
       "\n",
       "                placas_fem_com_d  placas_fem_sup_d  placas_fem_com_i  \\\n",
       "Códigobiobanco                                                         \n",
       "1801                         1.0               1.0               1.0   \n",
       "1802                         0.0               1.0               0.0   \n",
       "1803                         0.0               0.0               0.0   \n",
       "1804                         1.0               0.0               0.0   \n",
       "1805                         0.0               0.0               0.0   \n",
       "\n",
       "                placas_fem_sup_i  code  franja_edat  Presence_plaque  \\\n",
       "Códigobiobanco                                                         \n",
       "1801                         1.0  1801    age 66-75           Plaque   \n",
       "1802                         0.0  1802    age 56-65           Plaque   \n",
       "1803                         0.0  1803    age 66-75        No plaque   \n",
       "1804                         0.0  1804    age 56-65           Plaque   \n",
       "1805                         0.0  1805    age 46-55        No plaque   \n",
       "\n",
       "                Totalplaques  \n",
       "Códigobiobanco                \n",
       "1801                     5.0  \n",
       "1802                     6.0  \n",
       "1803                     0.0  \n",
       "1804                     5.0  \n",
       "1805                     0.0  \n",
       "\n",
       "[5 rows x 27 columns]"
      ]
     },
     "execution_count": 18,
     "metadata": {},
     "output_type": "execute_result"
    }
   ],
   "source": [
    "df_resum[\"Presence_plaque\"] = np.where(df[\"Totalplaques\"] > 0 , \"Plaque\", \"No plaque\")\n",
    "df_resum.head()"
   ]
  },
  {
   "cell_type": "code",
   "execution_count": 20,
   "metadata": {},
   "outputs": [
    {
     "data": {
      "text/html": [
       "<div>\n",
       "<style>\n",
       "    .dataframe thead tr:only-child th {\n",
       "        text-align: right;\n",
       "    }\n",
       "\n",
       "    .dataframe thead th {\n",
       "        text-align: left;\n",
       "    }\n",
       "\n",
       "    .dataframe tbody tr th {\n",
       "        vertical-align: top;\n",
       "    }\n",
       "</style>\n",
       "<table border=\"1\" class=\"dataframe\">\n",
       "  <thead>\n",
       "    <tr style=\"text-align: right;\">\n",
       "      <th>EventoCV_Si_No</th>\n",
       "      <th>NO CV Event</th>\n",
       "      <th>YES CV Event</th>\n",
       "    </tr>\n",
       "    <tr>\n",
       "      <th>Presence_plaque</th>\n",
       "      <th></th>\n",
       "      <th></th>\n",
       "    </tr>\n",
       "  </thead>\n",
       "  <tbody>\n",
       "    <tr>\n",
       "      <th>No plaque</th>\n",
       "      <td>980</td>\n",
       "      <td>21</td>\n",
       "    </tr>\n",
       "    <tr>\n",
       "      <th>Plaque</th>\n",
       "      <td>1808</td>\n",
       "      <td>195</td>\n",
       "    </tr>\n",
       "  </tbody>\n",
       "</table>\n",
       "</div>"
      ],
      "text/plain": [
       "EventoCV_Si_No   NO CV Event  YES CV Event\n",
       "Presence_plaque                           \n",
       "No plaque                980            21\n",
       "Plaque                  1808           195"
      ]
     },
     "execution_count": 20,
     "metadata": {},
     "output_type": "execute_result"
    }
   ],
   "source": [
    "\n",
    "\n",
    "pivot_ = df_resum.pivot_table(index=\"Presence_plaque\",columns=\"EventoCV_Si_No\",values = \"sexo\",aggfunc = np.count_nonzero)\n",
    "pivot_ "
   ]
  },
  {
   "cell_type": "code",
   "execution_count": 21,
   "metadata": {
    "collapsed": true
   },
   "outputs": [],
   "source": [
    "# total = [total_no_plaque total_no_plaque][total_plaque total_plaque]\n",
    "totals = np.array([[21+980 , 21+980 ],[195+1808 , 195+1808]])\n",
    "pivot_norm = pivot_/totals\n"
   ]
  },
  {
   "cell_type": "code",
   "execution_count": 22,
   "metadata": {},
   "outputs": [
    {
     "data": {
      "text/html": [
       "<div>\n",
       "<style>\n",
       "    .dataframe thead tr:only-child th {\n",
       "        text-align: right;\n",
       "    }\n",
       "\n",
       "    .dataframe thead th {\n",
       "        text-align: left;\n",
       "    }\n",
       "\n",
       "    .dataframe tbody tr th {\n",
       "        vertical-align: top;\n",
       "    }\n",
       "</style>\n",
       "<table border=\"1\" class=\"dataframe\">\n",
       "  <thead>\n",
       "    <tr style=\"text-align: right;\">\n",
       "      <th>EventoCV_Si_No</th>\n",
       "      <th>NO CV Event</th>\n",
       "      <th>YES CV Event</th>\n",
       "    </tr>\n",
       "    <tr>\n",
       "      <th>Presence_plaque</th>\n",
       "      <th></th>\n",
       "      <th></th>\n",
       "    </tr>\n",
       "  </thead>\n",
       "  <tbody>\n",
       "    <tr>\n",
       "      <th>No plaque</th>\n",
       "      <td>0.979021</td>\n",
       "      <td>0.020979</td>\n",
       "    </tr>\n",
       "    <tr>\n",
       "      <th>Plaque</th>\n",
       "      <td>0.902646</td>\n",
       "      <td>0.097354</td>\n",
       "    </tr>\n",
       "  </tbody>\n",
       "</table>\n",
       "</div>"
      ],
      "text/plain": [
       "EventoCV_Si_No   NO CV Event  YES CV Event\n",
       "Presence_plaque                           \n",
       "No plaque           0.979021      0.020979\n",
       "Plaque              0.902646      0.097354"
      ]
     },
     "execution_count": 22,
     "metadata": {},
     "output_type": "execute_result"
    }
   ],
   "source": [
    "pivot_norm"
   ]
  },
  {
   "cell_type": "code",
   "execution_count": 23,
   "metadata": {},
   "outputs": [
    {
     "ename": "NameError",
     "evalue": "name 'plt' is not defined",
     "output_type": "error",
     "traceback": [
      "\u001b[0;31m---------------------------------------------------------------------------\u001b[0m",
      "\u001b[0;31mNameError\u001b[0m                                 Traceback (most recent call last)",
      "\u001b[0;32m<ipython-input-23-f467ee28bea8>\u001b[0m in \u001b[0;36m<module>\u001b[0;34m()\u001b[0m\n\u001b[1;32m      3\u001b[0m \u001b[0;31m# Taula de frequencies relatives condicionades\u001b[0m\u001b[0;34m\u001b[0m\u001b[0;34m\u001b[0m\u001b[0m\n\u001b[1;32m      4\u001b[0m \u001b[0;34m\u001b[0m\u001b[0m\n\u001b[0;32m----> 5\u001b[0;31m \u001b[0mf\u001b[0m\u001b[0;34m,\u001b[0m \u001b[0max\u001b[0m \u001b[0;34m=\u001b[0m \u001b[0mplt\u001b[0m\u001b[0;34m.\u001b[0m\u001b[0msubplots\u001b[0m\u001b[0;34m(\u001b[0m\u001b[0mfigsize\u001b[0m\u001b[0;34m=\u001b[0m\u001b[0;34m(\u001b[0m\u001b[0;36m9\u001b[0m\u001b[0;34m,\u001b[0m \u001b[0;36m6\u001b[0m\u001b[0;34m)\u001b[0m\u001b[0;34m)\u001b[0m\u001b[0;34m\u001b[0m\u001b[0m\n\u001b[0m\u001b[1;32m      6\u001b[0m \u001b[0msns\u001b[0m\u001b[0;34m.\u001b[0m\u001b[0mheatmap\u001b[0m\u001b[0;34m(\u001b[0m\u001b[0mpivot_norm\u001b[0m\u001b[0;34m*\u001b[0m\u001b[0;36m100\u001b[0m\u001b[0;34m,\u001b[0m \u001b[0mannot\u001b[0m\u001b[0;34m=\u001b[0m\u001b[0;32mTrue\u001b[0m\u001b[0;34m,\u001b[0m \u001b[0mlinewidths\u001b[0m\u001b[0;34m=\u001b[0m\u001b[0;36m.5\u001b[0m\u001b[0;34m,\u001b[0m \u001b[0max\u001b[0m\u001b[0;34m=\u001b[0m\u001b[0max\u001b[0m\u001b[0;34m)\u001b[0m\u001b[0;34m\u001b[0m\u001b[0m\n\u001b[1;32m      7\u001b[0m \u001b[0mplt\u001b[0m\u001b[0;34m.\u001b[0m\u001b[0mshow\u001b[0m\u001b[0;34m(\u001b[0m\u001b[0;34m)\u001b[0m\u001b[0;34m\u001b[0m\u001b[0m\n",
      "\u001b[0;31mNameError\u001b[0m: name 'plt' is not defined"
     ]
    }
   ],
   "source": [
    "# heatmap, millorable\n",
    "\n",
    "# Taula de frequencies relatives condicionades\n",
    "\n",
    "f, ax = plt.subplots(figsize=(9, 6))\n",
    "sns.heatmap(pivot_norm*100, annot=True, linewidths=.5, ax=ax)\n",
    "plt.show()"
   ]
  },
  {
   "cell_type": "markdown",
   "metadata": {},
   "source": [
    "In a first view of data we see that around 9.7% of subjects with plaque (in any territory) have suffered a CardioVascular Event, while only 2.1% of the subjects with no plaque have suffered a CV event. Apparently there might be a relation between subjects having with a plaque and subjects without a CV Event. In order to formalize this relation we will perform a $\\chi$ square Pearson test."
   ]
  },
  {
   "cell_type": "markdown",
   "metadata": {},
   "source": [
    "We want to determine wether if having a CV event is dependent on having a plaque (in any territory). We define as a null hypothesis that pressence of plaque don't have any effect on the occurrence of a Cardio Vascular Event. \n",
    "\n",
    "$$\n",
    "H_0: \\text{Plaque pressence don't have eny effect on the occurrence of a CV event.}\n",
    "$$\n",
    "$$\n",
    "H_A: \\text{Plaque pressence have effect on the occurrence of a CV event.}\n",
    "$$\n",
    "\n"
   ]
  },
  {
   "cell_type": "markdown",
   "metadata": {},
   "source": [
    "The contingency table for this case is:"
   ]
  },
  {
   "cell_type": "code",
   "execution_count": 538,
   "metadata": {},
   "outputs": [
    {
     "data": {
      "text/html": [
       "<div>\n",
       "<style>\n",
       "    .dataframe thead tr:only-child th {\n",
       "        text-align: right;\n",
       "    }\n",
       "\n",
       "    .dataframe thead th {\n",
       "        text-align: left;\n",
       "    }\n",
       "\n",
       "    .dataframe tbody tr th {\n",
       "        vertical-align: top;\n",
       "    }\n",
       "</style>\n",
       "<table border=\"1\" class=\"dataframe\">\n",
       "  <thead>\n",
       "    <tr style=\"text-align: right;\">\n",
       "      <th>EventoCV_Si_No</th>\n",
       "      <th>NO CV Event</th>\n",
       "      <th>YES CV Event</th>\n",
       "    </tr>\n",
       "    <tr>\n",
       "      <th>Presence_plaque</th>\n",
       "      <th></th>\n",
       "      <th></th>\n",
       "    </tr>\n",
       "  </thead>\n",
       "  <tbody>\n",
       "    <tr>\n",
       "      <th>No plaque</th>\n",
       "      <td>980</td>\n",
       "      <td>21</td>\n",
       "    </tr>\n",
       "    <tr>\n",
       "      <th>Plaque</th>\n",
       "      <td>1808</td>\n",
       "      <td>195</td>\n",
       "    </tr>\n",
       "  </tbody>\n",
       "</table>\n",
       "</div>"
      ],
      "text/plain": [
       "EventoCV_Si_No   NO CV Event  YES CV Event\n",
       "Presence_plaque                           \n",
       "No plaque                980            21\n",
       "Plaque                  1808           195"
      ]
     },
     "execution_count": 538,
     "metadata": {},
     "output_type": "execute_result"
    }
   ],
   "source": [
    "pivot_ = df_resum.pivot_table(index=\"Presence_plaque\",columns=\"EventoCV_Si_No\",values = \"sexo\",aggfunc = np.count_nonzero)\n",
    "pivot_"
   ]
  },
  {
   "cell_type": "markdown",
   "metadata": {},
   "source": [
    "The computed $\\chi^2$ value is :"
   ]
  },
  {
   "cell_type": "code",
   "execution_count": 552,
   "metadata": {
    "collapsed": true
   },
   "outputs": [],
   "source": [
    "import scipy\n",
    "\n",
    "a=[[980,1808]]\n",
    "b=[[21,195]]\n",
    "\n",
    "chi2, pvalue, _, _ = scipy.stats.chi2_contingency([a, b])"
   ]
  },
  {
   "cell_type": "code",
   "execution_count": 553,
   "metadata": {},
   "outputs": [
    {
     "data": {
      "text/plain": [
       "57.201662458796477"
      ]
     },
     "execution_count": 553,
     "metadata": {},
     "output_type": "execute_result"
    }
   ],
   "source": [
    "chi2"
   ]
  },
  {
   "cell_type": "code",
   "execution_count": 348,
   "metadata": {},
   "outputs": [
    {
     "data": {
      "text/plain": [
       "3.8414588206941245"
      ]
     },
     "execution_count": 348,
     "metadata": {},
     "output_type": "execute_result"
    }
   ],
   "source": [
    "scipy.stats.chi2.isf(0.05, 1) # for chi square disstribution value"
   ]
  },
  {
   "cell_type": "markdown",
   "metadata": {},
   "source": [
    "$\\chi^2 = 57.2$, assuming a confidence of 5% this value is greater than the value of the distribution for 1 degree of freedom and p=0.05 ($\\chi^2_{0.05}(1)=3.84$), thus it is possible to reject the null hypothesis and to assume that there exist a correlation between the plaque presence and the CV event happening.\n",
    "\n",
    "An high value of $\\chi^2$ can be due two main reasons, either we have a big size of samples or the observations are not independent. In the case of this dataset each observation come from different patients, thus they are indenpendent observations,which means that this high value is due to a having a high number of samples, which \"reinforces\" the outcome."
   ]
  },
  {
   "cell_type": "code",
   "execution_count": 340,
   "metadata": {},
   "outputs": [
    {
     "data": {
      "text/plain": [
       "3.9333855190690181e-14"
      ]
     },
     "execution_count": 340,
     "metadata": {},
     "output_type": "execute_result"
    }
   ],
   "source": [
    "pvalue"
   ]
  },
  {
   "cell_type": "markdown",
   "metadata": {},
   "source": [
    "Let's see now if some of the factors that we have seen before are actually confounding factors. There is no final consensus as for the criterion to see if a factor is indeed a confounder. In order to detect if a variable is a confounder we will use stratification. This consists on  stratifying the results on\n",
    "the levels of the potential confounder so that it produces apparent paradoxical results.\n",
    "\n",
    "In this study the we will take as a measure of confounder the odd ratio."
   ]
  },
  {
   "cell_type": "markdown",
   "metadata": {},
   "source": [
    "#### Diabetes"
   ]
  },
  {
   "cell_type": "code",
   "execution_count": 536,
   "metadata": {},
   "outputs": [
    {
     "data": {
      "text/plain": [
       "'\\\\begin{tabular}{llrr}\\n\\\\toprule\\n          & EventoCV\\\\_Si\\\\_No &  NO CV Event &  YES CV Event \\\\\\\\\\nPresence\\\\_plaque & diabetes &              &               \\\\\\\\\\n\\\\midrule\\nNo plaque & No Diabetes &          864 &            16 \\\\\\\\\\n          & Yes Diabetes &          116 &             5 \\\\\\\\\\nPlaque & No Diabetes &         1335 &           108 \\\\\\\\\\n          & Yes Diabetes &          473 &            87 \\\\\\\\\\n\\\\bottomrule\\n\\\\end{tabular}\\n'"
      ]
     },
     "execution_count": 536,
     "metadata": {},
     "output_type": "execute_result"
    }
   ],
   "source": [
    "pivot_ = df_resum.pivot_table(index=[\"Presence_plaque\",\"diabetes\"],columns=\"EventoCV_Si_No\",values = \"sexo\",aggfunc = np.count_nonzero)\n",
    "pivot_"
   ]
  },
  {
   "cell_type": "code",
   "execution_count": 351,
   "metadata": {},
   "outputs": [
    {
     "name": "stdout",
     "output_type": "stream",
     "text": [
      "OR No Diabetes : 4.368539325842697\n",
      "OR Yes Diabetes: 4.26723044397463\n"
     ]
    }
   ],
   "source": [
    "print(\"OR No Diabetes :\",(864*108)/(1335*16))\n",
    "print(\"OR Yes Diabetes:\",(116*87)/(473*5))"
   ]
  },
  {
   "cell_type": "code",
   "execution_count": 187,
   "metadata": {},
   "outputs": [
    {
     "data": {
      "text/html": [
       "<div>\n",
       "<style>\n",
       "    .dataframe thead tr:only-child th {\n",
       "        text-align: right;\n",
       "    }\n",
       "\n",
       "    .dataframe thead th {\n",
       "        text-align: left;\n",
       "    }\n",
       "\n",
       "    .dataframe tbody tr th {\n",
       "        vertical-align: top;\n",
       "    }\n",
       "</style>\n",
       "<table border=\"1\" class=\"dataframe\">\n",
       "  <thead>\n",
       "    <tr style=\"text-align: right;\">\n",
       "      <th></th>\n",
       "      <th>EventoCV_Si_No</th>\n",
       "      <th>NO CV Event</th>\n",
       "      <th>YES CV Event</th>\n",
       "    </tr>\n",
       "    <tr>\n",
       "      <th>Presence_plaque</th>\n",
       "      <th>diabetes</th>\n",
       "      <th></th>\n",
       "      <th></th>\n",
       "    </tr>\n",
       "  </thead>\n",
       "  <tbody>\n",
       "    <tr>\n",
       "      <th rowspan=\"2\" valign=\"top\">No plaque</th>\n",
       "      <th>No Diabetes</th>\n",
       "      <td>0.970787</td>\n",
       "      <td>0.017978</td>\n",
       "    </tr>\n",
       "    <tr>\n",
       "      <th>Yes Diabetes</th>\n",
       "      <td>0.958678</td>\n",
       "      <td>0.041322</td>\n",
       "    </tr>\n",
       "    <tr>\n",
       "      <th rowspan=\"2\" valign=\"top\">Plaque</th>\n",
       "      <th>No Diabetes</th>\n",
       "      <td>0.925156</td>\n",
       "      <td>0.074844</td>\n",
       "    </tr>\n",
       "    <tr>\n",
       "      <th>Yes Diabetes</th>\n",
       "      <td>0.844643</td>\n",
       "      <td>0.155357</td>\n",
       "    </tr>\n",
       "  </tbody>\n",
       "</table>\n",
       "</div>"
      ],
      "text/plain": [
       "EventoCV_Si_No                NO CV Event  YES CV Event\n",
       "Presence_plaque diabetes                               \n",
       "No plaque       No Diabetes      0.970787      0.017978\n",
       "                Yes Diabetes     0.958678      0.041322\n",
       "Plaque          No Diabetes      0.925156      0.074844\n",
       "                Yes Diabetes     0.844643      0.155357"
      ]
     },
     "execution_count": 187,
     "metadata": {},
     "output_type": "execute_result"
    }
   ],
   "source": [
    "totals = np.array([[864+26,864+26],[116+5,116+5],[1335+108,1335+108],[473+87,473+87]])\n",
    "pivot_norm = pivot_/totals\n",
    "pivot_norm"
   ]
  },
  {
   "cell_type": "markdown",
   "metadata": {},
   "source": [
    "#### Gender"
   ]
  },
  {
   "cell_type": "code",
   "execution_count": 557,
   "metadata": {},
   "outputs": [
    {
     "data": {
      "text/html": [
       "<div>\n",
       "<style>\n",
       "    .dataframe thead tr:only-child th {\n",
       "        text-align: right;\n",
       "    }\n",
       "\n",
       "    .dataframe thead th {\n",
       "        text-align: left;\n",
       "    }\n",
       "\n",
       "    .dataframe tbody tr th {\n",
       "        vertical-align: top;\n",
       "    }\n",
       "</style>\n",
       "<table border=\"1\" class=\"dataframe\">\n",
       "  <thead>\n",
       "    <tr style=\"text-align: right;\">\n",
       "      <th></th>\n",
       "      <th>EventoCV_Si_No</th>\n",
       "      <th>NO CV Event</th>\n",
       "      <th>YES CV Event</th>\n",
       "    </tr>\n",
       "    <tr>\n",
       "      <th>Presence_plaque</th>\n",
       "      <th>sexo</th>\n",
       "      <th></th>\n",
       "      <th></th>\n",
       "    </tr>\n",
       "  </thead>\n",
       "  <tbody>\n",
       "    <tr>\n",
       "      <th rowspan=\"2\" valign=\"top\">No plaque</th>\n",
       "      <th>Female</th>\n",
       "      <td>513</td>\n",
       "      <td>12</td>\n",
       "    </tr>\n",
       "    <tr>\n",
       "      <th>Male</th>\n",
       "      <td>467</td>\n",
       "      <td>9</td>\n",
       "    </tr>\n",
       "    <tr>\n",
       "      <th rowspan=\"2\" valign=\"top\">Plaque</th>\n",
       "      <th>Female</th>\n",
       "      <td>619</td>\n",
       "      <td>54</td>\n",
       "    </tr>\n",
       "    <tr>\n",
       "      <th>Male</th>\n",
       "      <td>1189</td>\n",
       "      <td>141</td>\n",
       "    </tr>\n",
       "  </tbody>\n",
       "</table>\n",
       "</div>"
      ],
      "text/plain": [
       "EventoCV_Si_No          NO CV Event  YES CV Event\n",
       "Presence_plaque sexo                             \n",
       "No plaque       Female          513            12\n",
       "                Male            467             9\n",
       "Plaque          Female          619            54\n",
       "                Male           1189           141"
      ]
     },
     "execution_count": 557,
     "metadata": {},
     "output_type": "execute_result"
    }
   ],
   "source": [
    "pivot_ = df_resum.pivot_table(index=[\"Presence_plaque\",\"sexo\"],columns=\"EventoCV_Si_No\",values = \"code\",aggfunc = np.count_nonzero)\n",
    "pivot_"
   ]
  },
  {
   "cell_type": "code",
   "execution_count": 349,
   "metadata": {},
   "outputs": [
    {
     "name": "stdout",
     "output_type": "stream",
     "text": [
      "or male :  6.153350154191197\n",
      "or female :  3.7294022617124396\n"
     ]
    }
   ],
   "source": [
    "print(\"or male : \",(467*141)/(1189*9))\n",
    "print(\"or female : \",(513*54)/(619*12))"
   ]
  },
  {
   "cell_type": "code",
   "execution_count": 192,
   "metadata": {},
   "outputs": [
    {
     "data": {
      "text/plain": [
       "array([513,  12])"
      ]
     },
     "execution_count": 192,
     "metadata": {},
     "output_type": "execute_result"
    }
   ],
   "source": [
    "sum(pivot_.values[0,:])"
   ]
  },
  {
   "cell_type": "code",
   "execution_count": 193,
   "metadata": {},
   "outputs": [
    {
     "data": {
      "text/html": [
       "<div>\n",
       "<style>\n",
       "    .dataframe thead tr:only-child th {\n",
       "        text-align: right;\n",
       "    }\n",
       "\n",
       "    .dataframe thead th {\n",
       "        text-align: left;\n",
       "    }\n",
       "\n",
       "    .dataframe tbody tr th {\n",
       "        vertical-align: top;\n",
       "    }\n",
       "</style>\n",
       "<table border=\"1\" class=\"dataframe\">\n",
       "  <thead>\n",
       "    <tr style=\"text-align: right;\">\n",
       "      <th></th>\n",
       "      <th>EventoCV_Si_No</th>\n",
       "      <th>NO CV Event</th>\n",
       "      <th>YES CV Event</th>\n",
       "    </tr>\n",
       "    <tr>\n",
       "      <th>Presence_plaque</th>\n",
       "      <th>sexo</th>\n",
       "      <th></th>\n",
       "      <th></th>\n",
       "    </tr>\n",
       "  </thead>\n",
       "  <tbody>\n",
       "    <tr>\n",
       "      <th rowspan=\"2\" valign=\"top\">No plaque</th>\n",
       "      <th>Female</th>\n",
       "      <td>0.977143</td>\n",
       "      <td>0.022857</td>\n",
       "    </tr>\n",
       "    <tr>\n",
       "      <th>Male</th>\n",
       "      <td>0.981092</td>\n",
       "      <td>0.018908</td>\n",
       "    </tr>\n",
       "    <tr>\n",
       "      <th rowspan=\"2\" valign=\"top\">Plaque</th>\n",
       "      <th>Female</th>\n",
       "      <td>0.919762</td>\n",
       "      <td>0.080238</td>\n",
       "    </tr>\n",
       "    <tr>\n",
       "      <th>Male</th>\n",
       "      <td>0.893985</td>\n",
       "      <td>0.106015</td>\n",
       "    </tr>\n",
       "  </tbody>\n",
       "</table>\n",
       "</div>"
      ],
      "text/plain": [
       "EventoCV_Si_No          NO CV Event  YES CV Event\n",
       "Presence_plaque sexo                             \n",
       "No plaque       Female     0.977143      0.022857\n",
       "                Male       0.981092      0.018908\n",
       "Plaque          Female     0.919762      0.080238\n",
       "                Male       0.893985      0.106015"
      ]
     },
     "execution_count": 193,
     "metadata": {},
     "output_type": "execute_result"
    }
   ],
   "source": [
    "totals = np.array([[sum(pivot_.values[0,:]),sum(pivot_.values[0,:])],\n",
    "                   [sum(pivot_.values[1,:]),sum(pivot_.values[1,:])],\n",
    "                   [sum(pivot_.values[2,:]),sum(pivot_.values[2,:])],\n",
    "                   [sum(pivot_.values[3,:]),sum(pivot_.values[3,:])]])\n",
    "pivot_norm = pivot_/totals\n",
    "pivot_norm"
   ]
  },
  {
   "cell_type": "markdown",
   "metadata": {},
   "source": [
    "#### Hypertens"
   ]
  },
  {
   "cell_type": "code",
   "execution_count": 559,
   "metadata": {},
   "outputs": [
    {
     "data": {
      "text/html": [
       "<div>\n",
       "<style>\n",
       "    .dataframe thead tr:only-child th {\n",
       "        text-align: right;\n",
       "    }\n",
       "\n",
       "    .dataframe thead th {\n",
       "        text-align: left;\n",
       "    }\n",
       "\n",
       "    .dataframe tbody tr th {\n",
       "        vertical-align: top;\n",
       "    }\n",
       "</style>\n",
       "<table border=\"1\" class=\"dataframe\">\n",
       "  <thead>\n",
       "    <tr style=\"text-align: right;\">\n",
       "      <th></th>\n",
       "      <th>EventoCV_Si_No</th>\n",
       "      <th>NO CV Event</th>\n",
       "      <th>YES CV Event</th>\n",
       "    </tr>\n",
       "    <tr>\n",
       "      <th>Presence_plaque</th>\n",
       "      <th>hipertenso</th>\n",
       "      <th></th>\n",
       "      <th></th>\n",
       "    </tr>\n",
       "  </thead>\n",
       "  <tbody>\n",
       "    <tr>\n",
       "      <th rowspan=\"2\" valign=\"top\">No plaque</th>\n",
       "      <th>No Hypertens</th>\n",
       "      <td>296</td>\n",
       "      <td>3</td>\n",
       "    </tr>\n",
       "    <tr>\n",
       "      <th>Yes Hypertens</th>\n",
       "      <td>684</td>\n",
       "      <td>18</td>\n",
       "    </tr>\n",
       "    <tr>\n",
       "      <th rowspan=\"2\" valign=\"top\">Plaque</th>\n",
       "      <th>No Hypertens</th>\n",
       "      <td>268</td>\n",
       "      <td>12</td>\n",
       "    </tr>\n",
       "    <tr>\n",
       "      <th>Yes Hypertens</th>\n",
       "      <td>1540</td>\n",
       "      <td>183</td>\n",
       "    </tr>\n",
       "  </tbody>\n",
       "</table>\n",
       "</div>"
      ],
      "text/plain": [
       "EventoCV_Si_No                 NO CV Event  YES CV Event\n",
       "Presence_plaque hipertenso                              \n",
       "No plaque       No Hypertens           296             3\n",
       "                Yes Hypertens          684            18\n",
       "Plaque          No Hypertens           268            12\n",
       "                Yes Hypertens         1540           183"
      ]
     },
     "execution_count": 559,
     "metadata": {},
     "output_type": "execute_result"
    }
   ],
   "source": [
    "pivot_ = df_resum.pivot_table(index=[\"Presence_plaque\",\"hipertenso\"],columns=\"EventoCV_Si_No\",values = \"code\",aggfunc = np.count_nonzero)\n",
    "pivot_"
   ]
  },
  {
   "cell_type": "code",
   "execution_count": 354,
   "metadata": {},
   "outputs": [
    {
     "name": "stdout",
     "output_type": "stream",
     "text": [
      "or no hypertens :  4.417910447761194\n",
      "or yes hypertens :  4.515584415584415\n"
     ]
    }
   ],
   "source": [
    "print(\"or no hypertens : \",(296*12)/(268*3))\n",
    "print(\"or yes hypertens : \",(684*183)/(1540*18))"
   ]
  },
  {
   "cell_type": "code",
   "execution_count": null,
   "metadata": {
    "collapsed": true
   },
   "outputs": [],
   "source": []
  },
  {
   "cell_type": "code",
   "execution_count": 196,
   "metadata": {},
   "outputs": [
    {
     "data": {
      "text/html": [
       "<div>\n",
       "<style>\n",
       "    .dataframe thead tr:only-child th {\n",
       "        text-align: right;\n",
       "    }\n",
       "\n",
       "    .dataframe thead th {\n",
       "        text-align: left;\n",
       "    }\n",
       "\n",
       "    .dataframe tbody tr th {\n",
       "        vertical-align: top;\n",
       "    }\n",
       "</style>\n",
       "<table border=\"1\" class=\"dataframe\">\n",
       "  <thead>\n",
       "    <tr style=\"text-align: right;\">\n",
       "      <th></th>\n",
       "      <th>EventoCV_Si_No</th>\n",
       "      <th>NO CV Event</th>\n",
       "      <th>YES CV Event</th>\n",
       "    </tr>\n",
       "    <tr>\n",
       "      <th>Presence_plaque</th>\n",
       "      <th>hipertenso</th>\n",
       "      <th></th>\n",
       "      <th></th>\n",
       "    </tr>\n",
       "  </thead>\n",
       "  <tbody>\n",
       "    <tr>\n",
       "      <th rowspan=\"2\" valign=\"top\">No plaque</th>\n",
       "      <th>No Hypertens</th>\n",
       "      <td>0.989967</td>\n",
       "      <td>0.010033</td>\n",
       "    </tr>\n",
       "    <tr>\n",
       "      <th>Yes Hypertens</th>\n",
       "      <td>0.974359</td>\n",
       "      <td>0.025641</td>\n",
       "    </tr>\n",
       "    <tr>\n",
       "      <th rowspan=\"2\" valign=\"top\">Plaque</th>\n",
       "      <th>No Hypertens</th>\n",
       "      <td>0.957143</td>\n",
       "      <td>0.042857</td>\n",
       "    </tr>\n",
       "    <tr>\n",
       "      <th>Yes Hypertens</th>\n",
       "      <td>0.893790</td>\n",
       "      <td>0.106210</td>\n",
       "    </tr>\n",
       "  </tbody>\n",
       "</table>\n",
       "</div>"
      ],
      "text/plain": [
       "EventoCV_Si_No                 NO CV Event  YES CV Event\n",
       "Presence_plaque hipertenso                              \n",
       "No plaque       No Hypertens      0.989967      0.010033\n",
       "                Yes Hypertens     0.974359      0.025641\n",
       "Plaque          No Hypertens      0.957143      0.042857\n",
       "                Yes Hypertens     0.893790      0.106210"
      ]
     },
     "execution_count": 196,
     "metadata": {},
     "output_type": "execute_result"
    }
   ],
   "source": [
    "totals = np.array([[sum(pivot_.values[0,:]),sum(pivot_.values[0,:])],\n",
    "                   [sum(pivot_.values[1,:]),sum(pivot_.values[1,:])],\n",
    "                   [sum(pivot_.values[2,:]),sum(pivot_.values[2,:])],\n",
    "                   [sum(pivot_.values[3,:]),sum(pivot_.values[3,:])]])\n",
    "pivot_norm = pivot_/totals\n",
    "pivot_norm"
   ]
  },
  {
   "cell_type": "markdown",
   "metadata": {},
   "source": [
    "#### Dyslipimic"
   ]
  },
  {
   "cell_type": "code",
   "execution_count": 561,
   "metadata": {},
   "outputs": [
    {
     "data": {
      "text/html": [
       "<div>\n",
       "<style>\n",
       "    .dataframe thead tr:only-child th {\n",
       "        text-align: right;\n",
       "    }\n",
       "\n",
       "    .dataframe thead th {\n",
       "        text-align: left;\n",
       "    }\n",
       "\n",
       "    .dataframe tbody tr th {\n",
       "        vertical-align: top;\n",
       "    }\n",
       "</style>\n",
       "<table border=\"1\" class=\"dataframe\">\n",
       "  <thead>\n",
       "    <tr style=\"text-align: right;\">\n",
       "      <th></th>\n",
       "      <th>EventoCV_Si_No</th>\n",
       "      <th>NO CV Event</th>\n",
       "      <th>YES CV Event</th>\n",
       "    </tr>\n",
       "    <tr>\n",
       "      <th>Presence_plaque</th>\n",
       "      <th>dislipemico</th>\n",
       "      <th></th>\n",
       "      <th></th>\n",
       "    </tr>\n",
       "  </thead>\n",
       "  <tbody>\n",
       "    <tr>\n",
       "      <th rowspan=\"2\" valign=\"top\">No plaque</th>\n",
       "      <th>No dyslipemic</th>\n",
       "      <td>508</td>\n",
       "      <td>7</td>\n",
       "    </tr>\n",
       "    <tr>\n",
       "      <th>Yes dyslipemic</th>\n",
       "      <td>472</td>\n",
       "      <td>14</td>\n",
       "    </tr>\n",
       "    <tr>\n",
       "      <th rowspan=\"2\" valign=\"top\">Plaque</th>\n",
       "      <th>No dyslipemic</th>\n",
       "      <td>626</td>\n",
       "      <td>52</td>\n",
       "    </tr>\n",
       "    <tr>\n",
       "      <th>Yes dyslipemic</th>\n",
       "      <td>1182</td>\n",
       "      <td>143</td>\n",
       "    </tr>\n",
       "  </tbody>\n",
       "</table>\n",
       "</div>"
      ],
      "text/plain": [
       "EventoCV_Si_No                  NO CV Event  YES CV Event\n",
       "Presence_plaque dislipemico                              \n",
       "No plaque       No dyslipemic           508             7\n",
       "                Yes dyslipemic          472            14\n",
       "Plaque          No dyslipemic           626            52\n",
       "                Yes dyslipemic         1182           143"
      ]
     },
     "execution_count": 561,
     "metadata": {},
     "output_type": "execute_result"
    }
   ],
   "source": [
    "pivot_ = df_resum.pivot_table(index=[\"Presence_plaque\",\"dislipemico\"],columns=\"EventoCV_Si_No\",values = \"code\",aggfunc = np.count_nonzero)\n",
    "pivot_"
   ]
  },
  {
   "cell_type": "code",
   "execution_count": 353,
   "metadata": {},
   "outputs": [
    {
     "name": "stdout",
     "output_type": "stream",
     "text": [
      "or no dyslipemic :  6.028297581013236\n",
      "or yes dyslipemic :  4.078801063572637\n"
     ]
    }
   ],
   "source": [
    "print(\"or no dyslipemic : \",(508*52)/(626*7))\n",
    "print(\"or yes dyslipemic : \",(472*143)/(1182*14))"
   ]
  },
  {
   "cell_type": "code",
   "execution_count": 198,
   "metadata": {},
   "outputs": [
    {
     "data": {
      "text/html": [
       "<div>\n",
       "<style>\n",
       "    .dataframe thead tr:only-child th {\n",
       "        text-align: right;\n",
       "    }\n",
       "\n",
       "    .dataframe thead th {\n",
       "        text-align: left;\n",
       "    }\n",
       "\n",
       "    .dataframe tbody tr th {\n",
       "        vertical-align: top;\n",
       "    }\n",
       "</style>\n",
       "<table border=\"1\" class=\"dataframe\">\n",
       "  <thead>\n",
       "    <tr style=\"text-align: right;\">\n",
       "      <th></th>\n",
       "      <th>EventoCV_Si_No</th>\n",
       "      <th>NO CV Event</th>\n",
       "      <th>YES CV Event</th>\n",
       "    </tr>\n",
       "    <tr>\n",
       "      <th>Presence_plaque</th>\n",
       "      <th>dislipemico</th>\n",
       "      <th></th>\n",
       "      <th></th>\n",
       "    </tr>\n",
       "  </thead>\n",
       "  <tbody>\n",
       "    <tr>\n",
       "      <th rowspan=\"2\" valign=\"top\">No plaque</th>\n",
       "      <th>No dyslipemic</th>\n",
       "      <td>0.986408</td>\n",
       "      <td>0.013592</td>\n",
       "    </tr>\n",
       "    <tr>\n",
       "      <th>Yes dyslipemic</th>\n",
       "      <td>0.971193</td>\n",
       "      <td>0.028807</td>\n",
       "    </tr>\n",
       "    <tr>\n",
       "      <th rowspan=\"2\" valign=\"top\">Plaque</th>\n",
       "      <th>No dyslipemic</th>\n",
       "      <td>0.923304</td>\n",
       "      <td>0.076696</td>\n",
       "    </tr>\n",
       "    <tr>\n",
       "      <th>Yes dyslipemic</th>\n",
       "      <td>0.892075</td>\n",
       "      <td>0.107925</td>\n",
       "    </tr>\n",
       "  </tbody>\n",
       "</table>\n",
       "</div>"
      ],
      "text/plain": [
       "EventoCV_Si_No                  NO CV Event  YES CV Event\n",
       "Presence_plaque dislipemico                              \n",
       "No plaque       No dyslipemic      0.986408      0.013592\n",
       "                Yes dyslipemic     0.971193      0.028807\n",
       "Plaque          No dyslipemic      0.923304      0.076696\n",
       "                Yes dyslipemic     0.892075      0.107925"
      ]
     },
     "execution_count": 198,
     "metadata": {},
     "output_type": "execute_result"
    }
   ],
   "source": [
    "totals = np.array([[sum(pivot_.values[0,:]),sum(pivot_.values[0,:])],\n",
    "                   [sum(pivot_.values[1,:]),sum(pivot_.values[1,:])],\n",
    "                   [sum(pivot_.values[2,:]),sum(pivot_.values[2,:])],\n",
    "                   [sum(pivot_.values[3,:]),sum(pivot_.values[3,:])]])\n",
    "pivot_norm = pivot_/totals\n",
    "pivot_norm"
   ]
  },
  {
   "cell_type": "markdown",
   "metadata": {},
   "source": [
    "#### Age range"
   ]
  },
  {
   "cell_type": "code",
   "execution_count": 209,
   "metadata": {},
   "outputs": [
    {
     "data": {
      "text/html": [
       "<div>\n",
       "<style>\n",
       "    .dataframe thead tr:only-child th {\n",
       "        text-align: right;\n",
       "    }\n",
       "\n",
       "    .dataframe thead th {\n",
       "        text-align: left;\n",
       "    }\n",
       "\n",
       "    .dataframe tbody tr th {\n",
       "        vertical-align: top;\n",
       "    }\n",
       "</style>\n",
       "<table border=\"1\" class=\"dataframe\">\n",
       "  <thead>\n",
       "    <tr style=\"text-align: right;\">\n",
       "      <th></th>\n",
       "      <th>EventoCV_Si_No</th>\n",
       "      <th>NO CV Event</th>\n",
       "      <th>YES CV Event</th>\n",
       "    </tr>\n",
       "    <tr>\n",
       "      <th>Presence_plaque</th>\n",
       "      <th>franja_edat</th>\n",
       "      <th></th>\n",
       "      <th></th>\n",
       "    </tr>\n",
       "  </thead>\n",
       "  <tbody>\n",
       "    <tr>\n",
       "      <th rowspan=\"5\" valign=\"top\">No plaque</th>\n",
       "      <th>age 36-45</th>\n",
       "      <td>238.0</td>\n",
       "      <td>0.0</td>\n",
       "    </tr>\n",
       "    <tr>\n",
       "      <th>age 46-55</th>\n",
       "      <td>221.0</td>\n",
       "      <td>4.0</td>\n",
       "    </tr>\n",
       "    <tr>\n",
       "      <th>age 56-65</th>\n",
       "      <td>192.0</td>\n",
       "      <td>12.0</td>\n",
       "    </tr>\n",
       "    <tr>\n",
       "      <th>age 66-75</th>\n",
       "      <td>129.0</td>\n",
       "      <td>4.0</td>\n",
       "    </tr>\n",
       "    <tr>\n",
       "      <th>age &lt;=35</th>\n",
       "      <td>200.0</td>\n",
       "      <td>1.0</td>\n",
       "    </tr>\n",
       "    <tr>\n",
       "      <th rowspan=\"6\" valign=\"top\">Plaque</th>\n",
       "      <th>age 36-45</th>\n",
       "      <td>118.0</td>\n",
       "      <td>11.0</td>\n",
       "    </tr>\n",
       "    <tr>\n",
       "      <th>age 46-55</th>\n",
       "      <td>304.0</td>\n",
       "      <td>28.0</td>\n",
       "    </tr>\n",
       "    <tr>\n",
       "      <th>age 56-65</th>\n",
       "      <td>624.0</td>\n",
       "      <td>60.0</td>\n",
       "    </tr>\n",
       "    <tr>\n",
       "      <th>age 66-75</th>\n",
       "      <td>737.0</td>\n",
       "      <td>96.0</td>\n",
       "    </tr>\n",
       "    <tr>\n",
       "      <th>age &lt;=35</th>\n",
       "      <td>19.0</td>\n",
       "      <td>0.0</td>\n",
       "    </tr>\n",
       "    <tr>\n",
       "      <th>age &gt;75</th>\n",
       "      <td>6.0</td>\n",
       "      <td>0.0</td>\n",
       "    </tr>\n",
       "  </tbody>\n",
       "</table>\n",
       "</div>"
      ],
      "text/plain": [
       "EventoCV_Si_No               NO CV Event  YES CV Event\n",
       "Presence_plaque franja_edat                           \n",
       "No plaque       age 36-45          238.0           0.0\n",
       "                age 46-55          221.0           4.0\n",
       "                age 56-65          192.0          12.0\n",
       "                age 66-75          129.0           4.0\n",
       "                age <=35           200.0           1.0\n",
       "Plaque          age 36-45          118.0          11.0\n",
       "                age 46-55          304.0          28.0\n",
       "                age 56-65          624.0          60.0\n",
       "                age 66-75          737.0          96.0\n",
       "                age <=35            19.0           0.0\n",
       "                age >75              6.0           0.0"
      ]
     },
     "execution_count": 209,
     "metadata": {},
     "output_type": "execute_result"
    }
   ],
   "source": [
    "pivot_ = df_resum.pivot_table(index=[\"Presence_plaque\",\"franja_edat\"],columns=\"EventoCV_Si_No\",values = \"code\",aggfunc = np.count_nonzero)\n",
    "pivot_ = pivot_.fillna(0)\n",
    "pivot_"
   ]
  },
  {
   "cell_type": "code",
   "execution_count": 210,
   "metadata": {},
   "outputs": [
    {
     "data": {
      "text/html": [
       "<div>\n",
       "<style>\n",
       "    .dataframe thead tr:only-child th {\n",
       "        text-align: right;\n",
       "    }\n",
       "\n",
       "    .dataframe thead th {\n",
       "        text-align: left;\n",
       "    }\n",
       "\n",
       "    .dataframe tbody tr th {\n",
       "        vertical-align: top;\n",
       "    }\n",
       "</style>\n",
       "<table border=\"1\" class=\"dataframe\">\n",
       "  <thead>\n",
       "    <tr style=\"text-align: right;\">\n",
       "      <th></th>\n",
       "      <th>EventoCV_Si_No</th>\n",
       "      <th>NO CV Event</th>\n",
       "      <th>YES CV Event</th>\n",
       "    </tr>\n",
       "    <tr>\n",
       "      <th>Presence_plaque</th>\n",
       "      <th>franja_edat</th>\n",
       "      <th></th>\n",
       "      <th></th>\n",
       "    </tr>\n",
       "  </thead>\n",
       "  <tbody>\n",
       "    <tr>\n",
       "      <th rowspan=\"5\" valign=\"top\">No plaque</th>\n",
       "      <th>age 36-45</th>\n",
       "      <td>1.000000</td>\n",
       "      <td>0.000000</td>\n",
       "    </tr>\n",
       "    <tr>\n",
       "      <th>age 46-55</th>\n",
       "      <td>0.982222</td>\n",
       "      <td>0.017778</td>\n",
       "    </tr>\n",
       "    <tr>\n",
       "      <th>age 56-65</th>\n",
       "      <td>0.941176</td>\n",
       "      <td>0.058824</td>\n",
       "    </tr>\n",
       "    <tr>\n",
       "      <th>age 66-75</th>\n",
       "      <td>0.969925</td>\n",
       "      <td>0.030075</td>\n",
       "    </tr>\n",
       "    <tr>\n",
       "      <th>age &lt;=35</th>\n",
       "      <td>0.995025</td>\n",
       "      <td>0.004975</td>\n",
       "    </tr>\n",
       "    <tr>\n",
       "      <th rowspan=\"6\" valign=\"top\">Plaque</th>\n",
       "      <th>age 36-45</th>\n",
       "      <td>0.914729</td>\n",
       "      <td>0.085271</td>\n",
       "    </tr>\n",
       "    <tr>\n",
       "      <th>age 46-55</th>\n",
       "      <td>0.915663</td>\n",
       "      <td>0.084337</td>\n",
       "    </tr>\n",
       "    <tr>\n",
       "      <th>age 56-65</th>\n",
       "      <td>0.912281</td>\n",
       "      <td>0.087719</td>\n",
       "    </tr>\n",
       "    <tr>\n",
       "      <th>age 66-75</th>\n",
       "      <td>0.884754</td>\n",
       "      <td>0.115246</td>\n",
       "    </tr>\n",
       "    <tr>\n",
       "      <th>age &lt;=35</th>\n",
       "      <td>1.000000</td>\n",
       "      <td>0.000000</td>\n",
       "    </tr>\n",
       "    <tr>\n",
       "      <th>age &gt;75</th>\n",
       "      <td>1.000000</td>\n",
       "      <td>0.000000</td>\n",
       "    </tr>\n",
       "  </tbody>\n",
       "</table>\n",
       "</div>"
      ],
      "text/plain": [
       "EventoCV_Si_No               NO CV Event  YES CV Event\n",
       "Presence_plaque franja_edat                           \n",
       "No plaque       age 36-45       1.000000      0.000000\n",
       "                age 46-55       0.982222      0.017778\n",
       "                age 56-65       0.941176      0.058824\n",
       "                age 66-75       0.969925      0.030075\n",
       "                age <=35        0.995025      0.004975\n",
       "Plaque          age 36-45       0.914729      0.085271\n",
       "                age 46-55       0.915663      0.084337\n",
       "                age 56-65       0.912281      0.087719\n",
       "                age 66-75       0.884754      0.115246\n",
       "                age <=35        1.000000      0.000000\n",
       "                age >75         1.000000      0.000000"
      ]
     },
     "execution_count": 210,
     "metadata": {},
     "output_type": "execute_result"
    }
   ],
   "source": [
    "totals = np.array([[sum(pivot_.values[0,:]),sum(pivot_.values[0,:])],\n",
    "                   [sum(pivot_.values[1,:]),sum(pivot_.values[1,:])],\n",
    "                   [sum(pivot_.values[2,:]),sum(pivot_.values[2,:])],\n",
    "                   [sum(pivot_.values[3,:]),sum(pivot_.values[3,:])],\n",
    "                  [sum(pivot_.values[4,:]),sum(pivot_.values[4,:])],\n",
    "                  [sum(pivot_.values[5,:]),sum(pivot_.values[5,:])],\n",
    "                  [sum(pivot_.values[6,:]),sum(pivot_.values[6,:])],\n",
    "                  [sum(pivot_.values[7,:]),sum(pivot_.values[7,:])],\n",
    "                  [sum(pivot_.values[8,:]),sum(pivot_.values[8,:])],\n",
    "                  [sum(pivot_.values[9,:]),sum(pivot_.values[9,:])],\n",
    "                  [sum(pivot_.values[10,:]),sum(pivot_.values[10,:])]])\n",
    "pivot_norm = pivot_/totals\n",
    "pivot_norm"
   ]
  },
  {
   "cell_type": "markdown",
   "metadata": {},
   "source": [
    "#### bootstrap sampling"
   ]
  },
  {
   "cell_type": "code",
   "execution_count": 319,
   "metadata": {
    "collapsed": true
   },
   "outputs": [],
   "source": [
    "'''Only work if dataframe is the same format as data_resum'''\n",
    "\n",
    "def bootstrap_sampling(df,num_samples,num_boots,name_subcategory = None) :\n",
    "    if name_subcategory is None :\n",
    "        #for i in range(num_boots)\n",
    "        df_plaque = df[df[\"Presence_plaque\"]==\"Plaque\"]\n",
    "        df_no_plaque = df[df[\"Presence_plaque\"]==\"No plaque\"]\n",
    "        \n",
    "        df_plaque_resampled = df_plaque.sample(n = num_samples, replace = True)\n",
    "        df_no_plaque_resampled = df_no_plaque.sample(n = num_samples, replace=True)\n",
    "        \n",
    "        df_resampled = pd.concat([df_plaque_resampled,df_no_plaque_resampled])\n",
    "        #df_resampled = pd.concat(df_resampled,df_resampled_temp)\n",
    "        \n",
    "    return df_resampled\n",
    "        \n",
    "num_samples = 50000\n",
    "df_boots = bootstrap_sampling(df_resum,num_samples,1)"
   ]
  },
  {
   "cell_type": "code",
   "execution_count": 320,
   "metadata": {},
   "outputs": [
    {
     "data": {
      "text/html": [
       "<div>\n",
       "<style>\n",
       "    .dataframe thead tr:only-child th {\n",
       "        text-align: right;\n",
       "    }\n",
       "\n",
       "    .dataframe thead th {\n",
       "        text-align: left;\n",
       "    }\n",
       "\n",
       "    .dataframe tbody tr th {\n",
       "        vertical-align: top;\n",
       "    }\n",
       "</style>\n",
       "<table border=\"1\" class=\"dataframe\">\n",
       "  <thead>\n",
       "    <tr style=\"text-align: right;\">\n",
       "      <th>EventoCV_Si_No</th>\n",
       "      <th>NO CV Event</th>\n",
       "      <th>YES CV Event</th>\n",
       "    </tr>\n",
       "    <tr>\n",
       "      <th>Presence_plaque</th>\n",
       "      <th></th>\n",
       "      <th></th>\n",
       "    </tr>\n",
       "  </thead>\n",
       "  <tbody>\n",
       "    <tr>\n",
       "      <th>No plaque</th>\n",
       "      <td>48988</td>\n",
       "      <td>1012</td>\n",
       "    </tr>\n",
       "    <tr>\n",
       "      <th>Plaque</th>\n",
       "      <td>45053</td>\n",
       "      <td>4947</td>\n",
       "    </tr>\n",
       "  </tbody>\n",
       "</table>\n",
       "</div>"
      ],
      "text/plain": [
       "EventoCV_Si_No   NO CV Event  YES CV Event\n",
       "Presence_plaque                           \n",
       "No plaque              48988          1012\n",
       "Plaque                 45053          4947"
      ]
     },
     "execution_count": 320,
     "metadata": {},
     "output_type": "execute_result"
    }
   ],
   "source": [
    "pivot_ = df_boots.pivot_table(index=\"Presence_plaque\",columns=\"EventoCV_Si_No\",values = \"sexo\",aggfunc = np.count_nonzero)\n",
    "pivot_ "
   ]
  },
  {
   "cell_type": "code",
   "execution_count": 321,
   "metadata": {},
   "outputs": [
    {
     "data": {
      "text/html": [
       "<div>\n",
       "<style>\n",
       "    .dataframe thead tr:only-child th {\n",
       "        text-align: right;\n",
       "    }\n",
       "\n",
       "    .dataframe thead th {\n",
       "        text-align: left;\n",
       "    }\n",
       "\n",
       "    .dataframe tbody tr th {\n",
       "        vertical-align: top;\n",
       "    }\n",
       "</style>\n",
       "<table border=\"1\" class=\"dataframe\">\n",
       "  <thead>\n",
       "    <tr style=\"text-align: right;\">\n",
       "      <th>EventoCV_Si_No</th>\n",
       "      <th>NO CV Event</th>\n",
       "      <th>YES CV Event</th>\n",
       "    </tr>\n",
       "    <tr>\n",
       "      <th>Presence_plaque</th>\n",
       "      <th></th>\n",
       "      <th></th>\n",
       "    </tr>\n",
       "  </thead>\n",
       "  <tbody>\n",
       "    <tr>\n",
       "      <th>No plaque</th>\n",
       "      <td>97.976</td>\n",
       "      <td>2.024</td>\n",
       "    </tr>\n",
       "    <tr>\n",
       "      <th>Plaque</th>\n",
       "      <td>90.106</td>\n",
       "      <td>9.894</td>\n",
       "    </tr>\n",
       "  </tbody>\n",
       "</table>\n",
       "</div>"
      ],
      "text/plain": [
       "EventoCV_Si_No   NO CV Event  YES CV Event\n",
       "Presence_plaque                           \n",
       "No plaque             97.976         2.024\n",
       "Plaque                90.106         9.894"
      ]
     },
     "execution_count": 321,
     "metadata": {},
     "output_type": "execute_result"
    }
   ],
   "source": [
    "pivot_/(num_samples/100)"
   ]
  },
  {
   "cell_type": "code",
   "execution_count": 329,
   "metadata": {},
   "outputs": [
    {
     "data": {
      "text/plain": [
       "45053"
      ]
     },
     "execution_count": 329,
     "metadata": {},
     "output_type": "execute_result"
    }
   ],
   "source": [
    "pivot_.loc[\"Plaque\", \"NO CV Event\"]"
   ]
  },
  {
   "cell_type": "markdown",
   "metadata": {},
   "source": [
    "# Atheroma extent VS CV event"
   ]
  },
  {
   "cell_type": "markdown",
   "metadata": {},
   "source": [
    "The atheroma extent (defined as number of territories with plaque pressence) is a novel factor that can lead to a CV event, currently being assested as can be seen in [ref: plos]. In this part we will contrast the effect of the atheroma extent on the patients database of NEFRONA. As we've seen before a potential confounders is the gender of the subject, that's why, for the further analysis we will distignuish between genders. \n"
   ]
  },
  {
   "cell_type": "code",
   "execution_count": 27,
   "metadata": {},
   "outputs": [
    {
     "data": {
      "image/png": "[encoded data removed]",
      "text/plain": [
       "<matplotlib.figure.Figure at 0x1099ec908>"
      ]
     },
     "metadata": {},
     "output_type": "display_data"
    }
   ],
   "source": [
    "import seaborn as sns\n",
    "import matplotlib.pyplot as plt\n",
    "\n",
    "\n",
    "plt.figure(figsize=(10,10))\n",
    "sns.set_style(\"whitegrid\")\n",
    "sns.violinplot(x=\"EventoCV_Si_No\", y='Totalplaques', hue=\"sexo\",data=df,palette=\"Set2\", split=True)\n",
    "\n",
    "plt.title(\"Histograms of atheroma extent VS CV death\")\n",
    "plt.show()"
   ]
  },
  {
   "cell_type": "code",
   "execution_count": 385,
   "metadata": {
    "collapsed": true
   },
   "outputs": [],
   "source": [
    "import seaborn as sns\n",
    "import matplotlib.pyplot as plt\n",
    "sns.set(style=\"whitegrid\")\n",
    "\n",
    "df_resum_grouped = df_resum.groupby(['EventoCV_Si_No', 'Totalplaques','sexo'])['code'].count()"
   ]
  },
  {
   "cell_type": "markdown",
   "metadata": {},
   "source": [
    "###### Creating histogram for YES CV Events"
   ]
  },
  {
   "cell_type": "code",
   "execution_count": 414,
   "metadata": {
    "collapsed": true
   },
   "outputs": [],
   "source": [
    "df_resum_grouped_Si_CV = df_resum[df_resum[\"EventoCV_Si_No\"]==\"YES CV Event\"].groupby(['Totalplaques','sexo'])['code'].count()"
   ]
  },
  {
   "cell_type": "code",
   "execution_count": 421,
   "metadata": {
    "collapsed": true
   },
   "outputs": [],
   "source": [
    "df_resum_grouped_Si_CV = df_resum_grouped_Si_CV.reset_index()"
   ]
  },
  {
   "cell_type": "code",
   "execution_count": 439,
   "metadata": {},
   "outputs": [
    {
     "name": "stderr",
     "output_type": "stream",
     "text": [
      "/Users/jonatanpinol/anaconda3/lib/python3.6/site-packages/ipykernel_launcher.py:3: SettingWithCopyWarning: \n",
      "A value is trying to be set on a copy of a slice from a DataFrame.\n",
      "Try using .loc[row_indexer,col_indexer] = value instead\n",
      "\n",
      "See the caveats in the documentation: http://pandas.pydata.org/pandas-docs/stable/indexing.html#indexing-view-versus-copy\n",
      "  This is separate from the ipykernel package so we can avoid doing imports until\n"
     ]
    }
   ],
   "source": [
    "df_resum_grouped_Si_CV_female = df_resum_grouped_Si_CV[df_resum_grouped_Si_CV[\"sexo\"]==\"Female\"]\n",
    "\n",
    "df_resum_grouped_Si_CV_female[\"code\"] = (df_resum_grouped_Si_CV[\"code\"][df_resum_grouped_Si_CV[\"sexo\"]==\"Female\"] \\\n",
    "/ np.sum(df_resum_grouped_Si_CV[\"code\"][df_resum_grouped_Si_CV[\"sexo\"]==\"Female\"])).values"
   ]
  },
  {
   "cell_type": "code",
   "execution_count": 442,
   "metadata": {},
   "outputs": [
    {
     "name": "stderr",
     "output_type": "stream",
     "text": [
      "/Users/jonatanpinol/anaconda3/lib/python3.6/site-packages/ipykernel_launcher.py:3: SettingWithCopyWarning: \n",
      "A value is trying to be set on a copy of a slice from a DataFrame.\n",
      "Try using .loc[row_indexer,col_indexer] = value instead\n",
      "\n",
      "See the caveats in the documentation: http://pandas.pydata.org/pandas-docs/stable/indexing.html#indexing-view-versus-copy\n",
      "  This is separate from the ipykernel package so we can avoid doing imports until\n"
     ]
    }
   ],
   "source": [
    "df_resum_grouped_Si_CV_male = df_resum_grouped_Si_CV[df_resum_grouped_Si_CV[\"sexo\"]==\"Male\"]\n",
    "\n",
    "df_resum_grouped_Si_CV_male[\"code\"] = df_resum_grouped_Si_CV[\"code\"][df_resum_grouped_Si_CV[\"sexo\"]==\"Male\"] \\\n",
    "/ np.sum(df_resum_grouped_Si_CV[\"code\"][df_resum_grouped_Si_CV[\"sexo\"]==\"Male\"])"
   ]
  },
  {
   "cell_type": "code",
   "execution_count": 484,
   "metadata": {
    "collapsed": true
   },
   "outputs": [],
   "source": [
    "df_resum_grouped_Si_CV_histo = pd.concat([df_resum_grouped_Si_CV_female,df_resum_grouped_Si_CV_male])\n",
    "df_resum_grouped_Si_CV_histo = df_resum_grouped_Si_CV_histo.rename(columns={\"code\":\"Count of Subjects\",\"sexo\":\"sex\"})"
   ]
  },
  {
   "cell_type": "markdown",
   "metadata": {},
   "source": [
    "##### Creating histogram for NO CV events"
   ]
  },
  {
   "cell_type": "code",
   "execution_count": 470,
   "metadata": {
    "collapsed": true
   },
   "outputs": [],
   "source": [
    "df_resum_grouped_No_CV = df_resum[df_resum[\"EventoCV_Si_No\"]==\"NO CV Event\"].groupby(['Totalplaques','sexo'])['code'].count()"
   ]
  },
  {
   "cell_type": "code",
   "execution_count": 471,
   "metadata": {
    "collapsed": true
   },
   "outputs": [],
   "source": [
    "df_resum_grouped_No_CV = df_resum_grouped_No_CV.reset_index()"
   ]
  },
  {
   "cell_type": "code",
   "execution_count": 472,
   "metadata": {},
   "outputs": [
    {
     "name": "stderr",
     "output_type": "stream",
     "text": [
      "/Users/jonatanpinol/anaconda3/lib/python3.6/site-packages/ipykernel_launcher.py:3: SettingWithCopyWarning: \n",
      "A value is trying to be set on a copy of a slice from a DataFrame.\n",
      "Try using .loc[row_indexer,col_indexer] = value instead\n",
      "\n",
      "See the caveats in the documentation: http://pandas.pydata.org/pandas-docs/stable/indexing.html#indexing-view-versus-copy\n",
      "  This is separate from the ipykernel package so we can avoid doing imports until\n"
     ]
    }
   ],
   "source": [
    "df_resum_grouped_No_CV_female = df_resum_grouped_No_CV[df_resum_grouped_No_CV[\"sexo\"]==\"Female\"]\n",
    "\n",
    "df_resum_grouped_No_CV_female[\"code\"] = (df_resum_grouped_No_CV[\"code\"][df_resum_grouped_No_CV[\"sexo\"]==\"Female\"] \\\n",
    "/ np.sum(df_resum_grouped_No_CV[\"code\"][df_resum_grouped_No_CV[\"sexo\"]==\"Female\"])).values"
   ]
  },
  {
   "cell_type": "code",
   "execution_count": 473,
   "metadata": {},
   "outputs": [
    {
     "name": "stderr",
     "output_type": "stream",
     "text": [
      "/Users/jonatanpinol/anaconda3/lib/python3.6/site-packages/ipykernel_launcher.py:3: SettingWithCopyWarning: \n",
      "A value is trying to be set on a copy of a slice from a DataFrame.\n",
      "Try using .loc[row_indexer,col_indexer] = value instead\n",
      "\n",
      "See the caveats in the documentation: http://pandas.pydata.org/pandas-docs/stable/indexing.html#indexing-view-versus-copy\n",
      "  This is separate from the ipykernel package so we can avoid doing imports until\n"
     ]
    }
   ],
   "source": [
    "df_resum_grouped_No_CV_male = df_resum_grouped_No_CV[df_resum_grouped_No_CV[\"sexo\"]==\"Male\"]\n",
    "\n",
    "df_resum_grouped_No_CV_male[\"code\"] = df_resum_grouped_No_CV[\"code\"][df_resum_grouped_No_CV[\"sexo\"]==\"Male\"] \\\n",
    "/ np.sum(df_resum_grouped_No_CV[\"code\"][df_resum_grouped_No_CV[\"sexo\"]==\"Male\"])"
   ]
  },
  {
   "cell_type": "code",
   "execution_count": 479,
   "metadata": {
    "collapsed": true
   },
   "outputs": [],
   "source": [
    "df_resum_grouped_No_CV_histo = pd.concat([df_resum_grouped_No_CV_female,df_resum_grouped_No_CV_male])\n",
    "df_resum_grouped_No_CV_histo = df_resum_grouped_No_CV_histo.rename(columns={\"code\":\"Count of Subjects\",\"sexo\":\"sex\"})"
   ]
  },
  {
   "cell_type": "code",
   "execution_count": 562,
   "metadata": {},
   "outputs": [
    {
     "data": {
      "image/png": "[encoded data removed]",
      "text/plain": [
       "<matplotlib.figure.Figure at 0x1a1796cb00>"
      ]
     },
     "metadata": {},
     "output_type": "display_data"
    }
   ],
   "source": [
    "# Initialize the matplotlib figure\n",
    "#f, (ax1, ax2) = plt.subplots(1,2,figsize=(15, 6))\n",
    "plt.figure(figsize=(15,6))\n",
    "# Load the example car crash dataset\n",
    "# crashes = sns.load_dataset(\"car_crashes\").sort_values(\"total\", ascending=False)\n",
    "ax1 = plt.subplot(121)\n",
    "ax1.set_title(\"Histogram (normalized) of atheroma extent for population with registered CV event\")\n",
    "sns.set_color_codes(\"dark\")\n",
    "g1 = sns.barplot(x='Totalplaques', y=\"Count of Subjects\",hue = \"sex\", data=df_resum_grouped_Si_CV_histo, color=\"b\")\n",
    "g1.set(ylim=(0, 0.4))\n",
    "ax1.legend(ncol=2, loc=\"upper right\", frameon=True)\n",
    "ax1.set(xlabel=\"Number of territories with plaques\")\n",
    "\n",
    "sns.despine(left=True, bottom=True)\n",
    "\n",
    "ax2 = plt.subplot(122)\n",
    "ax2.set_title(\"Histogram (normalized) of atheroma extent for population without registered CV event\")\n",
    "sns.set_color_codes(\"dark\")\n",
    "g2 = sns.barplot(x='Totalplaques', y=\"Count of Subjects\",hue = \"sex\", data=df_resum_grouped_No_CV_histo, color=\"b\")\n",
    "g2.set(ylim=(0, 0.4))\n",
    "\n",
    "# Add a legend and informative axis label\n",
    "ax2.legend(ncol=2, loc=\"upper right\", frameon=True)\n",
    "ax2.set(xlabel=\"Number of territories with plaques\")\n",
    "sns.despine(left=True, bottom=True)\n",
    "\n",
    "plt.show()"
   ]
  },
  {
   "cell_type": "markdown",
   "metadata": {},
   "source": [
    "This figure (above) show the histograms of the distribution of plaques by subject sex, considering subjects having suffered a CV event (left) and subjects that haven't suffered a CV event. It is normalized by the number of subjects for each sex so that the proportions can be compared.\n",
    "\n",
    "There are two main observations concerning these plots. The first one is that we can see that for subjects without a registered CV events, the number of territories with plaques (atheroma extent) is concentrated at 0 territories and while increasing the number of territories with plaque, the number of subjects decrease. In the case of the population with CV events this trent doesn't hold and the majority of atheroma extent is concentrated to 4 regions for male patients and 2 territories for female patients.\n",
    "\n",
    "The second observation is that the atheroma extent distribution is different for both genders. Male patients tend to have more population on advanced stages of extent while female population is more concentrated in early stages of extent, for both populations types (with and without CV events).\n",
    "\n",
    "Let's proceed with a more formal analysis of the atheroma extent as a risk factor for CV events."
   ]
  },
  {
   "cell_type": "markdown",
   "metadata": {},
   "source": [
    "#### Atheroma extent VS CV events"
   ]
  },
  {
   "cell_type": "markdown",
   "metadata": {},
   "source": [
    "As before we will proceed with a study of independence of variables through a Pearson's $\\chi^2$ test. In figure [under this lines] we created the contingency table for this case : "
   ]
  },
  {
   "cell_type": "markdown",
   "metadata": {},
   "source": [
    "For females :"
   ]
  },
  {
   "cell_type": "code",
   "execution_count": 521,
   "metadata": {},
   "outputs": [
    {
     "data": {
      "text/html": [
       "<div>\n",
       "<style>\n",
       "    .dataframe thead tr:only-child th {\n",
       "        text-align: right;\n",
       "    }\n",
       "\n",
       "    .dataframe thead th {\n",
       "        text-align: left;\n",
       "    }\n",
       "\n",
       "    .dataframe tbody tr th {\n",
       "        vertical-align: top;\n",
       "    }\n",
       "</style>\n",
       "<table border=\"1\" class=\"dataframe\">\n",
       "  <thead>\n",
       "    <tr style=\"text-align: right;\">\n",
       "      <th>EventoCV_Si_No</th>\n",
       "      <th>NO CV Event</th>\n",
       "      <th>YES CV Event</th>\n",
       "    </tr>\n",
       "    <tr>\n",
       "      <th>Totalplaques</th>\n",
       "      <th></th>\n",
       "      <th></th>\n",
       "    </tr>\n",
       "  </thead>\n",
       "  <tbody>\n",
       "    <tr>\n",
       "      <th>0.0</th>\n",
       "      <td>513.0</td>\n",
       "      <td>12.0</td>\n",
       "    </tr>\n",
       "    <tr>\n",
       "      <th>1.0</th>\n",
       "      <td>192.0</td>\n",
       "      <td>11.0</td>\n",
       "    </tr>\n",
       "    <tr>\n",
       "      <th>2.0</th>\n",
       "      <td>159.0</td>\n",
       "      <td>13.0</td>\n",
       "    </tr>\n",
       "    <tr>\n",
       "      <th>3.0</th>\n",
       "      <td>112.0</td>\n",
       "      <td>8.0</td>\n",
       "    </tr>\n",
       "    <tr>\n",
       "      <th>4.0</th>\n",
       "      <td>68.0</td>\n",
       "      <td>7.0</td>\n",
       "    </tr>\n",
       "    <tr>\n",
       "      <th>5.0</th>\n",
       "      <td>39.0</td>\n",
       "      <td>6.0</td>\n",
       "    </tr>\n",
       "    <tr>\n",
       "      <th>6.0</th>\n",
       "      <td>27.0</td>\n",
       "      <td>5.0</td>\n",
       "    </tr>\n",
       "    <tr>\n",
       "      <th>7.0</th>\n",
       "      <td>17.0</td>\n",
       "      <td>4.0</td>\n",
       "    </tr>\n",
       "    <tr>\n",
       "      <th>8.0</th>\n",
       "      <td>3.0</td>\n",
       "      <td>0.0</td>\n",
       "    </tr>\n",
       "    <tr>\n",
       "      <th>9.0</th>\n",
       "      <td>2.0</td>\n",
       "      <td>0.0</td>\n",
       "    </tr>\n",
       "  </tbody>\n",
       "</table>\n",
       "</div>"
      ],
      "text/plain": [
       "EventoCV_Si_No  NO CV Event  YES CV Event\n",
       "Totalplaques                             \n",
       "0.0                   513.0          12.0\n",
       "1.0                   192.0          11.0\n",
       "2.0                   159.0          13.0\n",
       "3.0                   112.0           8.0\n",
       "4.0                    68.0           7.0\n",
       "5.0                    39.0           6.0\n",
       "6.0                    27.0           5.0\n",
       "7.0                    17.0           4.0\n",
       "8.0                     3.0           0.0\n",
       "9.0                     2.0           0.0"
      ]
     },
     "execution_count": 521,
     "metadata": {},
     "output_type": "execute_result"
    }
   ],
   "source": [
    "pivot_ = df_resum[df_resum[\"sexo\"]==\"Female\"].pivot_table(index=[\"Totalplaques\"],columns=\"EventoCV_Si_No\",values = \"code\",aggfunc = np.count_nonzero).fillna(0)\n",
    "pivot_"
   ]
  },
  {
   "cell_type": "code",
   "execution_count": 523,
   "metadata": {
    "collapsed": true
   },
   "outputs": [],
   "source": [
    "\n",
    "\n",
    "import scipy\n",
    "\n",
    "a=pivot_.values[0,:]\n",
    "b=pivot_.values[1,:]\n",
    "c=pivot_.values[2,:]\n",
    "d=pivot_.values[3,:]\n",
    "e=pivot_.values[4,:]\n",
    "f=pivot_.values[5,:]\n",
    "g=pivot_.values[6,:]\n",
    "h=pivot_.values[7,:]\n",
    "i=pivot_.values[8,:]\n",
    "j=pivot_.values[9,:]\n",
    "\n",
    "chi2, pvalue, _, _ = scipy.stats.chi2_contingency([a, b, c, d, e, f, g, h, i, j])"
   ]
  },
  {
   "cell_type": "code",
   "execution_count": 525,
   "metadata": {},
   "outputs": [
    {
     "data": {
      "text/plain": [
       "33.553105037952214"
      ]
     },
     "execution_count": 525,
     "metadata": {},
     "output_type": "execute_result"
    }
   ],
   "source": [
    "chi2 #10 df"
   ]
  },
  {
   "cell_type": "code",
   "execution_count": 526,
   "metadata": {},
   "outputs": [
    {
     "data": {
      "text/plain": [
       "16.918977604620451"
      ]
     },
     "execution_count": 526,
     "metadata": {},
     "output_type": "execute_result"
    }
   ],
   "source": [
    "scipy.stats.chi2.isf(0.05, 9)"
   ]
  },
  {
   "cell_type": "markdown",
   "metadata": {},
   "source": [
    "For males :"
   ]
  },
  {
   "cell_type": "code",
   "execution_count": 528,
   "metadata": {},
   "outputs": [
    {
     "data": {
      "text/html": [
       "<div>\n",
       "<style>\n",
       "    .dataframe thead tr:only-child th {\n",
       "        text-align: right;\n",
       "    }\n",
       "\n",
       "    .dataframe thead th {\n",
       "        text-align: left;\n",
       "    }\n",
       "\n",
       "    .dataframe tbody tr th {\n",
       "        vertical-align: top;\n",
       "    }\n",
       "</style>\n",
       "<table border=\"1\" class=\"dataframe\">\n",
       "  <thead>\n",
       "    <tr style=\"text-align: right;\">\n",
       "      <th>EventoCV_Si_No</th>\n",
       "      <th>NO CV Event</th>\n",
       "      <th>YES CV Event</th>\n",
       "    </tr>\n",
       "    <tr>\n",
       "      <th>Totalplaques</th>\n",
       "      <th></th>\n",
       "      <th></th>\n",
       "    </tr>\n",
       "  </thead>\n",
       "  <tbody>\n",
       "    <tr>\n",
       "      <th>0.0</th>\n",
       "      <td>467</td>\n",
       "      <td>9</td>\n",
       "    </tr>\n",
       "    <tr>\n",
       "      <th>1.0</th>\n",
       "      <td>264</td>\n",
       "      <td>14</td>\n",
       "    </tr>\n",
       "    <tr>\n",
       "      <th>2.0</th>\n",
       "      <td>242</td>\n",
       "      <td>24</td>\n",
       "    </tr>\n",
       "    <tr>\n",
       "      <th>3.0</th>\n",
       "      <td>198</td>\n",
       "      <td>20</td>\n",
       "    </tr>\n",
       "    <tr>\n",
       "      <th>4.0</th>\n",
       "      <td>163</td>\n",
       "      <td>27</td>\n",
       "    </tr>\n",
       "    <tr>\n",
       "      <th>5.0</th>\n",
       "      <td>113</td>\n",
       "      <td>10</td>\n",
       "    </tr>\n",
       "    <tr>\n",
       "      <th>6.0</th>\n",
       "      <td>77</td>\n",
       "      <td>14</td>\n",
       "    </tr>\n",
       "    <tr>\n",
       "      <th>7.0</th>\n",
       "      <td>65</td>\n",
       "      <td>15</td>\n",
       "    </tr>\n",
       "    <tr>\n",
       "      <th>8.0</th>\n",
       "      <td>40</td>\n",
       "      <td>9</td>\n",
       "    </tr>\n",
       "    <tr>\n",
       "      <th>9.0</th>\n",
       "      <td>20</td>\n",
       "      <td>5</td>\n",
       "    </tr>\n",
       "    <tr>\n",
       "      <th>10.0</th>\n",
       "      <td>7</td>\n",
       "      <td>3</td>\n",
       "    </tr>\n",
       "  </tbody>\n",
       "</table>\n",
       "</div>"
      ],
      "text/plain": [
       "EventoCV_Si_No  NO CV Event  YES CV Event\n",
       "Totalplaques                             \n",
       "0.0                     467             9\n",
       "1.0                     264            14\n",
       "2.0                     242            24\n",
       "3.0                     198            20\n",
       "4.0                     163            27\n",
       "5.0                     113            10\n",
       "6.0                      77            14\n",
       "7.0                      65            15\n",
       "8.0                      40             9\n",
       "9.0                      20             5\n",
       "10.0                      7             3"
      ]
     },
     "execution_count": 528,
     "metadata": {},
     "output_type": "execute_result"
    }
   ],
   "source": [
    "pivot_ = df_resum[df_resum[\"sexo\"]==\"Male\"].pivot_table(index=[\"Totalplaques\"],columns=\"EventoCV_Si_No\",values = \"code\",aggfunc = np.count_nonzero).fillna(0)\n",
    "pivot_"
   ]
  },
  {
   "cell_type": "code",
   "execution_count": 529,
   "metadata": {
    "collapsed": true
   },
   "outputs": [],
   "source": [
    "import scipy\n",
    "\n",
    "a=pivot_.values[0,:]\n",
    "b=pivot_.values[1,:]\n",
    "c=pivot_.values[2,:]\n",
    "d=pivot_.values[3,:]\n",
    "e=pivot_.values[4,:]\n",
    "f=pivot_.values[5,:]\n",
    "g=pivot_.values[6,:]\n",
    "h=pivot_.values[7,:]\n",
    "i=pivot_.values[8,:]\n",
    "j=pivot_.values[9,:]\n",
    "k=pivot_.values[10,:]\n",
    "\n",
    "chi2, pvalue, _, _ = scipy.stats.chi2_contingency([a, b, c, d, e, f, g, h, i, j,k])"
   ]
  },
  {
   "cell_type": "code",
   "execution_count": 532,
   "metadata": {},
   "outputs": [
    {
     "data": {
      "text/plain": [
       "73.350908506678778"
      ]
     },
     "execution_count": 532,
     "metadata": {},
     "output_type": "execute_result"
    }
   ],
   "source": [
    "chi2"
   ]
  },
  {
   "cell_type": "code",
   "execution_count": 530,
   "metadata": {},
   "outputs": [
    {
     "data": {
      "text/plain": [
       "18.307038053275143"
      ]
     },
     "execution_count": 530,
     "metadata": {},
     "output_type": "execute_result"
    }
   ],
   "source": [
    "scipy.stats.chi2.isf(0.05, 10)"
   ]
  },
  {
   "cell_type": "code",
   "execution_count": 531,
   "metadata": {},
   "outputs": [
    {
     "name": "stdout",
     "output_type": "stream",
     "text": [
      "Number of patients without event 2788\n"
     ]
    }
   ],
   "source": [
    "print(\"Number of patients without event\" ,len(df[\"EventoCV_Si_No\"][df[\"EventoCV_Si_No\"]==0]))"
   ]
  },
  {
   "cell_type": "code",
   "execution_count": 15,
   "metadata": {},
   "outputs": [
    {
     "data": {
      "text/plain": [
       "216"
      ]
     },
     "execution_count": 15,
     "metadata": {},
     "output_type": "execute_result"
    }
   ],
   "source": [
    "len(df[\"EventoCV_Si_No\"][df[\"EventoCV_Si_No\"]==1])"
   ]
  },
  {
   "cell_type": "code",
   "execution_count": 19,
   "metadata": {},
   "outputs": [
    {
     "data": {
      "text/plain": [
       "3004"
      ]
     },
     "execution_count": 19,
     "metadata": {},
     "output_type": "execute_result"
    }
   ],
   "source": [
    "len(df['mortCV'])"
   ]
  },
  {
   "cell_type": "code",
   "execution_count": 373,
   "metadata": {},
   "outputs": [
    {
     "data": {
      "text/plain": [
       "Index(['placas_cc_d', 'placas_med_bif_d', 'placas_med_car_d', 'placas_cc_i',\n",
       "       'placas_med_bif_i', 'placas_med_car_i', 'placas_fem_com_d',\n",
       "       'placas_fem_sup_d', 'placas_fem_com_i', 'placas_fem_sup_i',\n",
       "       'EventoCV_Si_No', 'muerte', 'sexo', 'Totalplaques', 'CCAplaca',\n",
       "       'bulb_placa', 'mortCV'],\n",
       "      dtype='object')"
      ]
     },
     "execution_count": 373,
     "metadata": {},
     "output_type": "execute_result"
    }
   ],
   "source": [
    "df.columns"
   ]
  },
  {
   "cell_type": "code",
   "execution_count": null,
   "metadata": {
    "collapsed": true
   },
   "outputs": [],
   "source": []
  }
 ],
 "metadata": {
  "kernelspec": {
   "display_name": "Python 3",
   "language": "python",
   "name": "python3"
  },
  "language_info": {
   "codemirror_mode": {
    "name": "ipython",
    "version": 3
   },
   "file_extension": ".py",
   "mimetype": "text/x-python",
   "name": "python",
   "nbconvert_exporter": "python",
   "pygments_lexer": "ipython3",
   "version": "3.6.3"
  }
 },
 "nbformat": 4,
 "nbformat_minor": 2
}
