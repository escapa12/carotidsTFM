{
 "cells": [
  {
   "cell_type": "markdown",
   "metadata": {},
   "source": [
    "# Qualitative comparative\n",
    "\n",
    "Takes the predicted IMR of NEFRONA images and supepose it with the original image. In a second step, we take the predicted contourn and superpose we superpose the original image with the predicted contourn and the GT."
   ]
  },
  {
   "cell_type": "code",
   "execution_count": 9,
   "metadata": {},
   "outputs": [],
   "source": [
    "import PIL.Image as pil\n",
    "import numpy as np\n",
    "import os\n",
    "import matplotlib.pylab as plt\n",
    "import scipy as sc"
   ]
  },
  {
   "cell_type": "code",
   "execution_count": 10,
   "metadata": {},
   "outputs": [],
   "source": [
    "path='/media/HDD3TB/data_carotid/auto_imt/images_enric/'\n",
    "for imatge in os.listdir(path):\n",
    "    #obtain the name image and their name in the GT\n",
    "    name='_'.join(imatge.split('_')[-4:])\n",
    "    name_gt='_'.join(name.split('_')[1:])#[:-4]+'_IMT.png'\n",
    "    path_gt='/media/HDD3TB/data_carotid/GT_ACC_PL_FINAL_20180619_part1/'\n",
    "    GT=os.listdir(path_gt)\n",
    "    \n",
    "    #Look for the GT image\n",
    "    if name_gt in GT in imatge:\n",
    "\n",
    "        im=np.asarray(pil.open(path+imatge))\n",
    "        original=np.asarray(pil.open('/media/HDD3TB/data_carotid/adjusted_ENRIC/crop_original_enric/'+name))\n",
    "\n",
    "        im_cont=np.zeros_like(im)\n",
    "        #num is the half of the width of the contourn\n",
    "        num=3\n",
    "        im_cont[num:-num,:]=im[2*num:,:]+im[:-2*num,:]\n",
    "        im_cont=im_cont-2*im\n",
    "\n",
    "        #initialize the output image\n",
    "        superpost=np.zeros((im.shape[0],im.shape[1],3),dtype='uint8')\n",
    "        #we fill the image with the original image unless the contourn part which is only added in one channel (red)\n",
    "        superpost[:,:,0]=original*(im_cont<255)+im_cont\n",
    "        superpost[:,:,1]=original*(im_cont<255)\n",
    "        superpost[:,:,2]=original*(im_cont<255)\n",
    "\n",
    "        #read de GT and resize and crop them like the original image\n",
    "        im_gt=pil.open(path_gt+name_gt)\n",
    "        im_gt=im_gt.resize((884,825),resample=pil.BICUBIC)\n",
    "        im_gt=np.asarray(im_gt)[94:-93,65:-64]\n",
    "#         arsup=np.asarray(sup)[:,:,0:3]\n",
    "        arim=255*np.asarray(pil.fromarray(im_gt))\n",
    "        \n",
    "        # as before we only add the GT in some channels to obtain the desidered color\n",
    "        im_final=np.copy(superpost)\n",
    "        im_final[arim>200]=0\n",
    "        im_final[:,:,2]=im_final[:,:,2]+arim\n",
    "        im_final[:,:,0]=im_final[:,:,0]+arim\n",
    "        \n",
    "        #save the final image\n",
    "        plt.imsave('/media/HDD3TB/data_carotid/auto_imt/images_enric_superpost/'+name,im_final)\n"
   ]
  },
  {
   "cell_type": "code",
   "execution_count": null,
   "metadata": {},
   "outputs": [],
   "source": []
  }
 ],
 "metadata": {
  "kernelspec": {
   "display_name": "Python [conda env:envTFM]",
   "language": "python",
   "name": "conda-env-envTFM-py"
  },
  "language_info": {
   "codemirror_mode": {
    "name": "ipython",
    "version": 2
   },
   "file_extension": ".py",
   "mimetype": "text/x-python",
   "name": "python",
   "nbconvert_exporter": "python",
   "pygments_lexer": "ipython2",
   "version": "2.7.14"
  }
 },
 "nbformat": 4,
 "nbformat_minor": 2
}
