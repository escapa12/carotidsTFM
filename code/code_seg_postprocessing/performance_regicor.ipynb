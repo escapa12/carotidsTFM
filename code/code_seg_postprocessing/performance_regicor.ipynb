{
 "cells": [
  {
   "cell_type": "markdown",
   "metadata": {},
   "source": [
    "# Computes the performance of the predictions"
   ]
  },
  {
   "cell_type": "code",
   "execution_count": 2,
   "metadata": {},
   "outputs": [],
   "source": [
    "from sklearn import metrics as sklearn_metrics\n",
    "import numpy as np\n",
    "import PIL.Image as pilimage\n",
    "import matplotlib.pylab as plt"
   ]
  },
  {
   "cell_type": "code",
   "execution_count": 3,
   "metadata": {},
   "outputs": [
    {
     "name": "stdout",
     "output_type": "stream",
     "text": [
      "mean_values\n",
      "[ 0.98987887  0.88662421  0.99274082  0.78060217  0.70157564  0.82216468]\n"
     ]
    }
   ],
   "source": [
    "import os\n",
    "# open the output file\n",
    "name_file='REGICOR_67_6Lab_noise.csv'\n",
    "fitxer=open('/media/HDD3TB/data_carotid/SEGMENTACIO/keras_semantic_segmentation/trained_models_carotida/evaluations/'+name_file,'w')\n",
    "fitxer.write('accuracy,sensitivity,specificity,precision,jaccard,dice\\n')\n",
    "\n",
    "#directory with the outpu images of the model\n",
    "path='/media/HDD3TB/data_carotid/SEGMENTACIO/keras_semantic_segmentation/trained_models_carotida/'\n",
    "model='CAROTIDA_segmentation_Tiramisu_rmsprop_model_T67_noise/test_epoch_335_REGICOR/'\n",
    "\n",
    "#directory with the GT\n",
    "gt_path='/media/HDD3TB/data_carotid/SEGMENTACIO/keras_semantic_segmentation/sample_bea/data/test18_2Lab/'\n",
    "\n",
    "images=np.sort(os.listdir(path+model))\n",
    "gt_images=np.sort(os.listdir(gt_path))\n",
    "\n",
    "#initialize the values\n",
    "out_jac=0.\n",
    "out_acc=0.\n",
    "out_sens=0.\n",
    "out_spec=0.\n",
    "out_prec=0.\n",
    "out_dice=0.\n",
    "\n",
    "for i in range(len(images)):\n",
    "    im=np.asarray(pilimage.open(path+model+images[i]))\n",
    "    #select the IMR \n",
    "    im=1*(im[:,:,0]==255)* (im[:,:,1]==255)*(im[:,:,2]==0) # 6 labels output\n",
    "#     im=im[:,:,0]/255                                     # 2 label output\n",
    "    gt_im=np.asarray(pilimage.open(gt_path+gt_images[i]))\n",
    "    \n",
    "    #compute the confusion matrix\n",
    "    cm = sklearn_metrics.confusion_matrix(gt_im.flatten(), im.flatten())\n",
    "\n",
    "    tn=cm[0][0]\n",
    "    fn=cm[1][0]\n",
    "    tp=cm[1][1]\n",
    "    fp=cm[0][1]\n",
    "    \n",
    "    # compute the metrics using their definitions\n",
    "    jac=float(tp)/(tp+fp+fn)\n",
    "    dice=float(2*tp)/(2*tp+fp+fn)\n",
    "    acc = float(tp+tn) / np.sum(cm)\n",
    "    sens=float(tp)/(tp+fn)\n",
    "    spec=float(tn)/(tn+fp)\n",
    "    prec=float(tp)/(tp+fp)\n",
    "    \n",
    "    fitxer.write('{},{},{},{},{},{}\\n'.format(acc,sens,spec,prec,jac,dice))\n",
    "#     print(i,acc,sens,spec,prec,jac,dice)\n",
    "\n",
    "    #accomulate the values\n",
    "    out_jac+=jac\n",
    "    out_acc+=acc\n",
    "    out_sens+=sens\n",
    "    out_spec+=spec\n",
    "    out_prec+=prec\n",
    "    out_dice+=dice\n",
    "    \n",
    "print('mean_values')\n",
    "print(np.array([out_acc,out_sens,out_spec,out_prec,out_jac,out_dice])/len(images))\n",
    "fitxer.close()"
   ]
  },
  {
   "cell_type": "code",
   "execution_count": null,
   "metadata": {},
   "outputs": [],
   "source": []
  }
 ],
 "metadata": {
  "kernelspec": {
   "display_name": "Python [conda env:envTFM]",
   "language": "python",
   "name": "conda-env-envTFM-py"
  },
  "language_info": {
   "codemirror_mode": {
    "name": "ipython",
    "version": 2
   },
   "file_extension": ".py",
   "mimetype": "text/x-python",
   "name": "python",
   "nbconvert_exporter": "python",
   "pygments_lexer": "ipython2",
   "version": "2.7.14"
  }
 },
 "nbformat": 4,
 "nbformat_minor": 2
}
