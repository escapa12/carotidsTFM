{
 "cells": [
  {
   "cell_type": "markdown",
   "metadata": {},
   "source": [
    "# Crop and Pair\n",
    "\n",
    "\n",
    "This code crop the grey level zone, hide the yellow letters and pair the images original-GT"
   ]
  },
  {
   "cell_type": "code",
   "execution_count": 3,
   "metadata": {
    "collapsed": true
   },
   "outputs": [],
   "source": [
    "import numpy as np\n",
    "import matplotlib.pyplot as plt\n",
    "import skimage.transform as skt\n",
    "from skimage.restoration import inpaint\n",
    "import os\n",
    "import cv2\n",
    "from scipy.signal import fftconvolve"
   ]
  },
  {
   "cell_type": "code",
   "execution_count": 2,
   "metadata": {
    "collapsed": true
   },
   "outputs": [],
   "source": [
    "def amagar_colors(im):\n",
    "    \"\"\" Hide de yellow letters and return a black and white image\"\"\"\n",
    "    im = 255*im if np.max(im)<1.1 else im\n",
    "    #select the black and white pixels (same value in the three channels)\n",
    "    mask1=im[:,:,0]==im[:,:,1] \n",
    "    mask2=im[:,:,0]==im[:,:,2] \n",
    "    mask=mask1+mask2\n",
    "    \n",
    "    #the new image will be only black and white\n",
    "    removed=im[:,:,0]*mask\n",
    "    \n",
    "    #invert the mask\n",
    "    mask=abs(mask-1)\n",
    "\n",
    "    # increase a little bit the mask to be sure to hide the colors\n",
    "    mask=fftconvolve(mask,np.array([[0,1,0],[1,1,1],[0,1,0]]),mode='same')\n",
    "    \n",
    "    #inpaint the black and white image\n",
    "    final=cv2.inpaint(removed,np.asarray(255*mask,dtype='uint8'),1,cv2.INPAINT_TELEA)\n",
    "\n",
    "    return(final)"
   ]
  },
  {
   "cell_type": "code",
   "execution_count": 3,
   "metadata": {
    "collapsed": true
   },
   "outputs": [],
   "source": [
    "def crop(im,tipus):\n",
    "    \"\"\"\n",
    "    Crop the image depending on their type\n",
    "    tipus:\n",
    "    -original\n",
    "    -modificada\n",
    "    \"\"\"\n",
    "    if tipus=='original':\n",
    "        if im.shape==(422, 636, 4):\n",
    "            im1_crop_man=amagar_colors(im[:-57,129:-116,:])/255.\n",
    "            return im1_crop_man\n",
    "        else:\n",
    "            dire='wrong_shape/originals/'\n",
    "            os.makedirs(dire)\n",
    "            plt.imsave(dire+str(len(os.listdir(dire))))\n",
    "            return 'Not desidered shape',im.shape\n",
    "    elif tipus=='modificada':\n",
    "        if im.shape==(434, 636, 4):\n",
    "            im2_crop_man=(im[22:-92,152:-140,0:3])\n",
    "            #the output pixels are in 0-1 range\n",
    "            im2_resize=skt.resize(im2_crop_man,(365, 391, 3))\n",
    "            im2_array=np.asanyarray(im2_resize) \n",
    "            return im2_array\n",
    "        else:\n",
    "            dire='wrong_shape/modificades/'\n",
    "            os.makedirs(dire)\n",
    "            plt.imsave(dire+str(len(os.listdir(dire))))\n",
    "\n",
    "            return 'Not desidered shape'\n",
    "        return 'wrong type'"
   ]
  },
  {
   "cell_type": "code",
   "execution_count": 4,
   "metadata": {
    "collapsed": true
   },
   "outputs": [],
   "source": [
    "def normalize(arr):\n",
    "    rng = arr.max()-arr.min()\n",
    "    amin = arr.min()\n",
    "    return (arr-amin)/rng"
   ]
  },
  {
   "cell_type": "code",
   "execution_count": 5,
   "metadata": {
    "collapsed": true
   },
   "outputs": [],
   "source": [
    "def pair_images(nova_ruta,desti='/'):\n",
    "    \"\"\"\n",
    "       For each ITM or PL image look for the original image that is more simmilar and pair them.\n",
    "    \n",
    "        nova_ruta: carpeta de cada pacient (amb la barra al final)\n",
    "        desti: lloc on es crearan les carpetes amb les parelles ja tallades i arreglades (amb barra al final)\"\"\"\n",
    "    \n",
    "    # store the images to the diccionary with a number as a key\n",
    "    originals={}\n",
    "    try:\n",
    "        num=0\n",
    "        for im in os.listdir(nova_ruta+'originals'):\n",
    "            a=plt.imread(nova_ruta+'originals/'+im)\n",
    "            #crop the original image\n",
    "            originals[str(num)]=crop(a,'original')\n",
    "            num+=1\n",
    "    except:\n",
    "        return\n",
    "    imts={}\n",
    "    try:\n",
    "        for im in os.listdir(nova_ruta+'IMT'):\n",
    "            #crop the image\n",
    "            imITM=crop(plt.imread(nova_ruta+'IMT/'+im),'modificada')\n",
    "            differences=[]\n",
    "            for index in range(len(originals)):\n",
    "                b=((originals[str(index)]))\n",
    "                #find the differences with diverse candidates\n",
    "                diff=np.sum(np.abs(normalize(imITM[:,:,0])-normalize(originals[str(index)])))\n",
    "                differences.append(diff)\n",
    "            imts[str(np.argmin(differences))]=imITM\n",
    "    except:\n",
    "        imts={}\n",
    "\n",
    "    # repeat the same with the plaque\n",
    "    pls={}\n",
    "    try:\n",
    "        for im in os.listdir(nova_ruta+'PL'):\n",
    "            imPL=crop(plt.imread(nova_ruta+'PL/'+im),'modificada')\n",
    "            differences=[]\n",
    "            for index in range(len(originals)):\n",
    "                b=((originals[str(index)]))\n",
    "                diff=np.sum(np.abs(normalize(imPL[:,:,0])-normalize(originals[str(index)])))\n",
    "                differences.append(diff)\n",
    "            pls[str(np.argmin(differences))]=imPL\n",
    "    except:\n",
    "        pls={}\n",
    "        \n",
    "    split=nova_ruta.split('/')\n",
    "    pacient=split[-2]+'_'+split[-3]\n",
    "    \n",
    "    #creates the destinations folders\n",
    "    ruta_itms=desti+'parelles_imt/'\n",
    "    os.makedirs(ruta_itms+'IMT/')if not os.path.exists(ruta_itms+'IMT/') else None\n",
    "    os.makedirs(ruta_itms+'original/')if not os.path.exists(ruta_itms+'original/') else None\n",
    "    os.makedirs(ruta_itms+'IMT_rar/')if not os.path.exists(ruta_itms+'IMT_rar/') else None\n",
    "    os.makedirs(ruta_itms+'original_rar/')if not os.path.exists(ruta_itms+'original_rar/') else None\n",
    "\n",
    "    ruta_pls=desti+'parelles_pl/'\n",
    "    os.makedirs(ruta_pls+'PL/')if not os.path.exists(ruta_pls+'PL/') else None\n",
    "    os.makedirs(ruta_pls+'original/')if not os.path.exists(ruta_pls+'original/') else None\n",
    "    os.makedirs(ruta_pls+'PL_rar/')if not os.path.exists(ruta_pls+'PL_rar/') else None\n",
    "    os.makedirs(ruta_pls+'original_rar/')if not os.path.exists(ruta_pls+'original_rar/') else None\n",
    "\n",
    "    #match the indices of the originals and imt/pl\n",
    "    for index in originals.keys():\n",
    "        if index in imts.keys():\n",
    "            \n",
    "            #split some images where the grey zone is smaller so they have more blacks in the first columns\n",
    "            if np.sum(imts[index][:,0:10,0])<100:\n",
    "                \n",
    "                plt.imsave(ruta_itms+'IMT_rar/'+pacient+'_'+index+'.png',imts[index])\n",
    "                plt.imsave(ruta_itms+'original_rar/'+pacient+'_'+index+'.png',originals[index],cmap='gray')\n",
    "            else:\n",
    "                plt.imsave(ruta_itms+'IMT/'+pacient+'_'+index+'.png',imts[index])\n",
    "                plt.imsave(ruta_itms+'original/'+pacient+'_'+index+'.png',originals[index],cmap='gray')\n",
    "\n",
    "    for index in originals.keys():\n",
    "        if index in pls.keys():\n",
    "            if np.sum(pls[index][:,0:10,0])<100:\n",
    "                plt.imsave(ruta_pls+'PL_rar/'+pacient+'_'+index+'.png',pls[index])\n",
    "                plt.imsave(ruta_pls+'original_rar/'+pacient+'_'+index+'.png',originals[index],cmap='gray')\n",
    "            else:\n",
    "                plt.imsave(ruta_pls+'PL/'+pacient+'_'+index+'.png',pls[index])\n",
    "                plt.imsave(ruta_pls+'original/'+pacient+'_'+index+'.png',originals[index],cmap='gray')"
   ]
  },
  {
   "cell_type": "code",
   "execution_count": 4,
   "metadata": {
    "collapsed": true
   },
   "outputs": [],
   "source": [
    "ruta='/media/HDD3TB/data_carotid/NEFRONA_parts/ACC/'\n",
    "llista=os.listdir(ruta)\n",
    "for banda in os.listdir(ruta):\n",
    "    for pacient in os.listdir(ruta+'/'+banda):\n",
    "        pair_images(ruta+'/'+banda+'/'+pacient+'/',desti='/media/HDD3TB/data_carotid/NEFRONA_crops/')"
   ]
  }
 ],
 "metadata": {
  "anaconda-cloud": {},
  "kernelspec": {
   "display_name": "Python (py3)",
   "language": "python",
   "name": "py3"
  },
  "language_info": {
   "codemirror_mode": {
    "name": "ipython",
    "version": 3
   },
   "file_extension": ".py",
   "mimetype": "text/x-python",
   "name": "python",
   "nbconvert_exporter": "python",
   "pygments_lexer": "ipython3",
   "version": "3.5.5"
  }
 },
 "nbformat": 4,
 "nbformat_minor": 2
}
