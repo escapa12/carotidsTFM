{
 "cells": [
  {
   "cell_type": "markdown",
   "metadata": {},
   "source": [
    "# Connected components\n",
    "\n",
    "From a segmented image with 6 classes, select the correct connected component corresponding to the IMR  and save the IMT value to a file."
   ]
  },
  {
   "cell_type": "code",
   "execution_count": 1,
   "metadata": {
    "collapsed": true
   },
   "outputs": [],
   "source": [
    "from skimage import measure\n",
    "from skimage import filters\n",
    "import matplotlib.pyplot as plt\n",
    "import numpy as np\n",
    "import PIL.Image as pilimage\n",
    "\n",
    "def select_true_IMT(image_path):\n",
    "    im_p=np.asarray(pilimage.open(image_path))\n",
    "    \n",
    "    #select the IMR, lumen and far wall masks\n",
    "    blobs=255*((im_p[:,:,0]==255) *(im_p[:,:,1]==255))\n",
    "    lumen=1*((im_p[:,:,1]==255) *(im_p[:,:,2]==255))\n",
    "    far_wall=1*((im_p[:,:,0]==255) *(im_p[:,:,1]==128))\n",
    "\n",
    "    #Find the connected components\n",
    "    blobs_labels,numero = measure.label(blobs, background=0,return_num=True)\n",
    "\n",
    "    #Find the size of each component\n",
    "    gran=[]\n",
    "    for i in range(numero):\n",
    "        gran.append(np.sum(blobs_labels==i))\n",
    "\n",
    "    #sort and take only the five biggest components\n",
    "    max_components=np.argsort(gran)[::-1][:5]\n",
    "\n",
    "    for label in max_components:\n",
    "        imt=255*(blobs_labels==label)\n",
    "\n",
    "        #there should be lumen above\n",
    "        imt_up=np.zeros_like(imt)\n",
    "        imt_up[:-10,:]=imt[10:,:]\n",
    "        final_up=(imt_up-imt)>0\n",
    "        suma_up=np.sum(final_up)\n",
    "        is_lumen=(np.sum(final_up*lumen)/suma_up)\n",
    "\n",
    "        #there should be far wall under the IMT\n",
    "        imt_dw=np.zeros_like(imt)\n",
    "        imt_dw[10:,:]=imt[:-10,:]\n",
    "        final_dw=(imt_dw-imt)>0\n",
    "        suma_dw=np.sum(final_dw)\n",
    "        is_far_wall=(np.sum(final_dw*far_wall)/suma_dw)\n",
    "\n",
    "        if is_lumen>0.9 and is_far_wall>0.9 and np.sum(imt>0)>8000:\n",
    "            return blobs_labels==label\n",
    "    # if the conditions are not satisfied return an empty string\n",
    "    return ''\n",
    "\n"
   ]
  },
  {
   "cell_type": "code",
   "execution_count": 1,
   "metadata": {
    "collapsed": true
   },
   "outputs": [],
   "source": [
    "import os\n",
    "path_in='/media/HDD3TB/data_carotid/SEGMENTACIO/keras_semantic_segmentation/trained_models_carotida/CAROTIDA_segmentation_Tiramisu_rmsprop_model_T67_noise/adjust_enric_val_epoch_335/'\n",
    "path_out='/media/HDD3TB/data_carotid/auto_imt/images_enric/'\n",
    "out_txt=open('/media/HDD3TB/data_carotid/auto_imt/imt_value_enric.txt','w')\n",
    "\n",
    "#find the images\n",
    "for im in os.listdir(path_in):\n",
    "    final_IM = select_true_IMT(path_in+im)\n",
    "    \n",
    "    #check that is not an empty string\n",
    "    if not isinstance(final_IM,str) :\n",
    "        IMT=0\n",
    "        #compute the IMT and save it to a file\n",
    "        resolucio=23.5\n",
    "        for i in np.unique(final_IM.nonzero()[1]):\n",
    "            columna=final_IM[:,i].nonzero()[0]\n",
    "            col_size = (columna.max()-columna.min())/resolucio\n",
    "            IMT = col_size if col_size>IMT else IMT\n",
    "        #save the final IMR and their maximum IMT\n",
    "        im_out=pilimage.fromarray(np.asarray(255*final_IM,dtype='uint8'))\n",
    "        im_out.save(path_out+im)\n",
    "        out_txt.write(im+','+str(IMT)+'\\n')\n",
    "out_txt.close()"
   ]
  }
 ],
 "metadata": {
  "kernelspec": {
   "display_name": "Python (py3)",
   "language": "python",
   "name": "py3"
  },
  "language_info": {
   "codemirror_mode": {
    "name": "ipython",
    "version": 3
   },
   "file_extension": ".py",
   "mimetype": "text/x-python",
   "name": "python",
   "nbconvert_exporter": "python",
   "pygments_lexer": "ipython3",
   "version": "3.5.5"
  }
 },
 "nbformat": 4,
 "nbformat_minor": 2
}
