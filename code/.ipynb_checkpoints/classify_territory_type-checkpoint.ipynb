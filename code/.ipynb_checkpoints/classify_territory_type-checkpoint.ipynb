{
 "cells": [
  {
   "cell_type": "markdown",
   "metadata": {},
   "source": [
    "# Separate the images by territory and classify them"
   ]
  },
  {
   "cell_type": "code",
   "execution_count": 1,
   "metadata": {
    "colab": {
     "autoexec": {
      "startup": false,
      "wait_interval": 0
     }
    },
    "colab_type": "code",
    "collapsed": true,
    "id": "gfBMSsB-KjdS"
   },
   "outputs": [],
   "source": [
    "import matplotlib.pyplot as plt\n",
    "import pydicom\n",
    "import os\n",
    "import ntpath\n",
    "import numpy as np\n",
    "import cv2"
   ]
  },
  {
   "cell_type": "code",
   "execution_count": 3,
   "metadata": {
    "colab": {
     "autoexec": {
      "startup": false,
      "wait_interval": 0
     }
    },
    "colab_type": "code",
    "collapsed": true,
    "id": "S5fgmG_bKjdY"
   },
   "outputs": [],
   "source": [
    "# directori of the DICOMIR file and folder GEMS_IMG\n",
    "directori='/media/HDD3TB/data_carotid/NEFRONA_20180613/'\n",
    "\n",
    "# store path\n",
    "destinacio='/media/HDD3TB/data_carotid/NEFRONA_parts/'"
   ]
  },
  {
   "cell_type": "code",
   "execution_count": 4,
   "metadata": {
    "collapsed": true
   },
   "outputs": [],
   "source": [
    "def find(imatge,detect):\n",
    "    \"\"\"Read the image on the path detect and return True if the template \n",
    "    is in the image with a confident bigger than 85%\"\"\"\n",
    "    template=plt.imread(detect)\n",
    "    template=template[:,:,0]    \n",
    "    \n",
    "    # look for the target in the upper left corner\n",
    "    zona=imatge[0:150,0:150,0]\n",
    "    \n",
    "    # the number 3 is the mode used to look for the template\n",
    "    res = cv2.matchTemplate(zona,template,3)\n",
    "\n",
    "    # returns True for a coincidence bigger than 85%\n",
    "    return True if res.max()>0.85 else False"
   ]
  },
  {
   "cell_type": "code",
   "execution_count": 5,
   "metadata": {
    "collapsed": true
   },
   "outputs": [],
   "source": [
    "def classify_im(imatge,file,name,treshold1=14000,treshold2=422):\n",
    "    \"\"\"For an image classifies as doopler,modified or non_modified\n",
    "    \n",
    "    file: indicates the path where the image should be saved\n",
    "    name: name of the image\n",
    "    treshold1: if the variance is big in channels, is related with the presence of red,gree,blue colors\n",
    "    treshold2: heigh of the image to discriminate modify images\"\"\"\n",
    "    \n",
    "    # adding a new channel we can classify better the presence of reds, greens and blues\n",
    "    # the presence of those colors is implies a big variance for those pixels\n",
    "    expand=255*np.ones([imatge.shape[0],imatge.shape[1],4],dtype=int)\n",
    "    expand[:,:,0:3]=imatge\n",
    "\n",
    "    # save doopler images in a folder\n",
    "    if np.max(np.var(expand,axis=2)) > treshold1:\n",
    "        os.makedirs(file+'doopler/')if not os.path.exists(file+'doopler/') else None\n",
    "        plt.imsave(file+'doopler/'+name,imatge)\n",
    "\n",
    "    else:\n",
    "        # the modified images are bigger than the originals\n",
    "        if np.shape(imatge)[0]>treshold2:\n",
    "            \n",
    "\n",
    "            # classify the images where the plaque is identified\n",
    "            if find(imatge,'cm2'):\n",
    "                \n",
    "                os.makedirs(file+'PL/')if not os.path.exists(file+'PL/') else None\n",
    "                plt.imsave(file+'PL/'+name,imatge)\n",
    "            elif find(imatge,'IMT'):\n",
    "                \n",
    "\n",
    "                \n",
    "                os.makedirs(file+'IMT/')if not os.path.exists(file+'IMT/') else None\n",
    "                plt.imsave(file+'IMT/'+name,imatge)\n",
    "            else:\n",
    "\n",
    "\n",
    "                os.makedirs(file+'modified/')if not os.path.exists(file+'modified/') else None\n",
    "                plt.imsave(file+'modified/'+name,imatge)\n",
    "\n",
    "\n",
    "            \n",
    "        # originals    \n",
    "        else:\n",
    "            os.makedirs(file+'originals/')if not os.path.exists(file+'originals/') else None\n",
    "            plt.imsave(file+'originals/'+name,imatge)"
   ]
  },
  {
   "cell_type": "code",
   "execution_count": 6,
   "metadata": {
    "colab": {
     "autoexec": {
      "startup": false,
      "wait_interval": 0
     }
    },
    "colab_type": "code",
    "collapsed": true,
    "id": "MzlRwKufKkeB",
    "outputId": "bdb58cd9-fa9f-4d8f-a243-124baa5f21dd",
    "scrolled": false
   },
   "outputs": [],
   "source": [
    "errors=''\n",
    "dir_data=directori+'GEMS_IMG/'\n",
    "\n",
    "mesos=os.listdir(dir_data)\n",
    "for mes in mesos:\n",
    "    \n",
    "    if os.path.isdir(dir_data+mes+'/'):\n",
    "        dies=os.listdir(dir_data+mes+'/')\n",
    "    else:\n",
    "        continue\n",
    "\n",
    "    for dia in dies:\n",
    "        if os.path.isdir(dir_data+mes+'/'+dia):\n",
    "            pacients=os.listdir(dir_data+mes+'/'+dia)\n",
    "        else:\n",
    "            continue\n",
    "        \n",
    "        for pacient in pacients:\n",
    "            if os.path.isdir(dir_data+mes+'/'+dia+'/'+pacient):\n",
    "                list_images= os.listdir(dir_data+mes+'/'+dia+'/'+pacient)\n",
    "            else:\n",
    "                continue\n",
    "            for im_dicom in list_images:\n",
    "                \n",
    "                path=dir_data+mes+'/'+dia+'/'+pacient+'/'+im_dicom\n",
    "                # read the file image as binari and transform to string\n",
    "                file=open(path,\"rb\").read()[1:]\n",
    "                file=str(file)\n",
    "\n",
    "                dcm = pydicom.read_file(path)\n",
    "                \n",
    "                # transform de dicom image to numpy array\n",
    "                test_array=dcm.pixel_array\n",
    "                if test_array.shape[2]!=3:  # some images has a weird number of channels\n",
    "                    errors+=path+'\\n'\n",
    "                    with open( 'debug.txt','w') as bugg:\n",
    "                        bugg.write(errors)\n",
    "\n",
    "                else :\n",
    "                    # extract the patien id\n",
    "                    subjecte = str(dcm.PatientID)  \n",
    "\n",
    "                    # classify which artery\n",
    "                    if (\"ACC D\" in file):     \n",
    "                        # new destination\n",
    "                        new_path=destinacio+'ACC/D/'+subjecte+'/'\n",
    "                        # name of the image\n",
    "                        name=path.split('/')[-1]\n",
    "                        # classify the type of image\n",
    "                        classify_im(test_array,new_path,name)\n",
    "\n",
    "                    elif (\"ACC E\" in file):            \n",
    "                        new_path=destinacio+'ACC/E/'+subjecte+'/'\n",
    "                        name=path.split('/')[-1]\n",
    "                        classify_im(test_array,new_path,name)\n",
    "\n",
    "                    elif (\"ACI D\" in file):            \n",
    "                        new_path=destinacio+'ACI/E/'+subjecte+'/'\n",
    "                        name=path.split('/')[-1]\n",
    "                        classify_im(test_array,new_path,name)\n",
    "\n",
    "                    elif (\"ACI E\" in file):            \n",
    "                        new_path=destinacio+'ACI/D/'+subjecte+'/'\n",
    "                        name=path.split('/')[-1]\n",
    "                        classify_im(test_array,new_path,name)\n",
    "\n",
    "                    elif (\"BULB D\" in file) or (\"BD \" in file):            \n",
    "                        new_path=destinacio+'BULB/D/'+subjecte+'/'\n",
    "                        name=path.split('/')[-1]\n",
    "                        classify_im(test_array,new_path,name)\n",
    "\n",
    "                    elif (\"BULB E\" in file) or (\"BE \" in file):            \n",
    "                        new_path=destinacio+'BULB/E/'+subjecte+'/'\n",
    "                        name=path.split('/')[-1]\n",
    "                        classify_im(test_array,new_path,name)\n",
    "                    elif (\"FEM \" in file):\n",
    "\n",
    "                        if (\"COM D\" in file):            \n",
    "                            new_path=destinacio+'FEM/COM_D/'+subjecte+'/'\n",
    "                            name=path.split('/')[-1]\n",
    "                            classify_im(test_array,new_path,name)\n",
    "\n",
    "                        elif (\"COM E\" in file):            \n",
    "                            new_path=destinacio+'FEM/COM_E/'+subjecte+'/'\n",
    "                            name=path.split('/')[-1]\n",
    "                            classify_im(test_array,new_path,name)\n",
    "\n",
    "                        elif (\"SUP D\" in file):            \n",
    "                            new_path=destinacio+'FEM/SUP_D/'+subjecte+'/'\n",
    "                            name=path.split('/')[-1]\n",
    "                            classify_im(test_array,new_path,name)\n",
    "\n",
    "                        elif (\"SUP E\" in file):            \n",
    "                            new_path=destinacio+'FEM/SUP_E/'+subjecte+'/'\n",
    "                            name=path.split('/')[-1]\n",
    "                            classify_im(test_array,new_path,name)\n",
    "                    elif (\"ACE D\" in file):            \n",
    "                        new_path=destinacio+'ACE/D'+subjecte+'/'\n",
    "                        name=path.split('/')[-1]\n",
    "                        classify_im(test_array,new_path,name)\n",
    "                    elif (\"ACE E\" in file):            \n",
    "                        new_path=destinacio+'ACE/E'+subjecte+'/'\n",
    "                        name=path.split('/')[-1]\n",
    "                        classify_im(test_array,new_path,name)\n",
    "\n",
    "                    elif (\"BRAQ \" in file):            \n",
    "                        new_path=destinacio+'BRAQ/'+subjecte+'/'\n",
    "                        name=path.split('/')[-1]\n",
    "                        classify_im(test_array,new_path,name)\n",
    "\n",
    "                    # Images that can not be classified\n",
    "                    else:     \n",
    "                        new_path=destinacio+'no_class/'+subjecte+'/'\n",
    "                        name=path.split('/')[-1]\n",
    "                        classify_im(test_array,new_path,name)\n",
    "\n"
   ]
  }
 ],
 "metadata": {
  "colab": {
   "default_view": {},
   "name": "dicomdir_reader.ipynb",
   "provenance": [],
   "version": "0.3.2",
   "views": {}
  },
  "kernelspec": {
   "display_name": "Python (py3)",
   "language": "python",
   "name": "py3"
  },
  "language_info": {
   "codemirror_mode": {
    "name": "ipython",
    "version": 3
   },
   "file_extension": ".py",
   "mimetype": "text/x-python",
   "name": "python",
   "nbconvert_exporter": "python",
   "pygments_lexer": "ipython3",
   "version": "3.5.5"
  }
 },
 "nbformat": 4,
 "nbformat_minor": 1
}
